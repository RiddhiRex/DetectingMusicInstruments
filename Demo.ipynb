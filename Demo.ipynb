{
 "cells": [
  {
   "cell_type": "code",
   "execution_count": 1,
   "metadata": {
    "collapsed": true
   },
   "outputs": [],
   "source": [
    "import numpy as np\n",
    "import pandas as pd\n",
    "import sklearn as sk\n",
    "import librosa as lib\n",
    "from sklearn import neighbors\n",
    "import sys\n",
    "from sklearn.externals import joblib\n",
    "from sklearn import preprocessing\n",
    "IRMAS = 1\n",
    "PHILHARMONIA = 2\n",
    "MIS =3"
   ]
  },
  {
   "cell_type": "code",
   "execution_count": 8,
   "metadata": {
    "collapsed": true
   },
   "outputs": [],
   "source": [
    "def preprocess(data):\n",
    "\n",
    "    y_test = data['class']\n",
    "    X_test = data.drop(['class'], axis=1).values\n",
    "    X_test = preprocessing.Imputer().fit_transform(X_test)\n",
    "    return X_test, y_test"
   ]
  },
  {
   "cell_type": "code",
   "execution_count": 3,
   "metadata": {
    "collapsed": true
   },
   "outputs": [],
   "source": [
    "def loadModel(dataset):\n",
    "    if dataset ==IRMAS:\n",
    "        model = joblib.load('irmas.model')\n",
    "    if dataset == PHILHARMONIA:\n",
    "        model = joblib.load('Philharmonia.model')\n",
    "    if dataset == MIS:\n",
    "        model = joblib.load('mis.model')\n",
    "    return model"
   ]
  },
  {
   "cell_type": "code",
   "execution_count": 10,
   "metadata": {
    "collapsed": true
   },
   "outputs": [],
   "source": [
    "def predict(model, features, instrument):\n",
    "    print(\"Testing the model\")\n",
    "    prediction = model.predict(features)\n",
    "    return prediction"
   ]
  },
  {
   "cell_type": "code",
<<<<<<< HEAD
   "execution_count": 2,
=======
   "execution_count": 22,
>>>>>>> 5a10a9e096e5f0c9435e8ad02086f1b852afea58
   "metadata": {
    "collapsed": true
   },
   "outputs": [],
   "source": [
    "def print_prediction(prediction1, prediction2, prediction3, instrument):\n",
    "    \n",
    "    dict = {}\n",
    "    dict[0]='Unknown instrument'\n",
    "    dict[1]='Cello'\n",
    "    dict[2]='Sax'\n",
    "    dict[3]='Clarinet'\n",
    "    dict[4]='Flute'\n",
    "    dict[5]='Guitar'\n",
    "    dict[6]='Piano'\n",
    "    dict[7]='Trumpet'\n",
    "    dict[8]='Violin'\n",
    "    dict[9]='Banjo'\n",
    "    dict[10]='Mandolin'\n",
    "    dict[11]='Organ'\n",
    "    dict[12]='Acoustic Guitar'\n",
    "    dict[13]='Electric Guitar'\n",
    "    dict[14]='Voice'\n",
    "    print(\"The true instrument in the music piece is \", dict[instrument])\n",
    "    if (prediction1 == prediction2 and prediction1==prediction3):\n",
    "        print('The instruments in the music piece is predicted as ', dict[prediction1])\n",
    "    elif prediction1 == prediction2 or prediction2==prediction3:\n",
    "        print('The instruments in the music piece is predicted as ', dict[prediction2])\n",
    "    elif prediction1 == prediction3 or prediction2==prediction3:\n",
    "        print('The instruments in the music piece is predicted as ', dict[prediction3])\n",
    "    elif prediction1 == prediction2 or prediction3 == prediction1:\n",
    "        print('The instruments in the music piece is predicted as ', dict[prediction1])\n",
    "    elif prediction1 == 0 and prediction3 == 0 and prediction2!=0:\n",
    "        print('The instruments in the music piece is predicted as ', dict[prediction2])\n",
    "    elif prediction2 == 0 and prediction3 == 0 and prediction1!=0:\n",
    "        print('The instruments in the music piece is predicted as ', dict[prediction1])\n",
    "    elif prediction2 == 0 and prediction1 == 0 and prediction3!=0:\n",
    "        print('The instruments in the music piece is predicted as ', dict[prediction3])\n",
    "    else:\n",
    "        #Since IRMAS model is trained on huge number of music files, we go with the result of IRMAS model predcition\n",
    "        print('Prediction 1:', dict[prediction1])\n",
    "\n",
    "    return\n"
   ]
  },
  {
   "cell_type": "code",
   "execution_count": 32,
   "metadata": {
    "collapsed": true
   },
   "outputs": [],
   "source": [
    "def main():\n",
    "    print(\"Enter the audio file name you want to test:\")\n",
    "    dir_name='Datasets/TrainingData/'\n",
    "    base_filename= raw_input()\n",
    "    filename = dir_name+base_filename\n",
    "    print filename\n",
    "    print(\"Get features from the music file\")\n",
    "    feature = extract_for_one(filename)\n",
    "    features = feature_set.append(convert_pool_to_dataframe(feature, instrument_code, filename))\n",
    "\n",
    "    model1 = loadModel(IRMAS)\n",
    "    prediction1 = predict(model1, features, instrument)\n",
    "    \n",
    "    model2 = loadModel(PHILHARMONIA)\n",
    "    prediction2 = predict(model2, features, instrument)\n",
    "    \n",
    "    model3 = loadModel(MIS)\n",
    "    prediction3 = predict(model3, features, instrument)\n",
    "\n",
    "    print_prediction(prediction1[0], prediction2[0], prediction3[0], instrument[0])"
   ]
  },
  {
   "cell_type": "code",
   "execution_count": 33,
   "metadata": {},
   "outputs": [
    {
     "name": "stdout",
     "output_type": "stream",
     "text": [
      "Enter the audio file name you want to test:\n",
      "asd\n",
      "Datasets/TrainingData/pia/asd\n",
      "Get features from the music file\n",
      "Testing the model\n",
      "Testing the model\n",
      "Testing the model\n",
      "('The true instrument in the music piece is ', 'Electric Guitar')\n",
      "('Prediction 1:', 'voice')\n",
      "('Prediction 2:', 'Flute')\n",
      "('Prediction 3:', 'Cello')\n"
     ]
    }
   ],
   "source": [
    "if __name__ == '__main__':\n",
    "    main()"
   ]
  }
 ],
 "metadata": {
  "kernelspec": {
   "display_name": "Python 2",
   "language": "python",
   "name": "python2"
  },
  "language_info": {
   "codemirror_mode": {
    "name": "ipython",
    "version": 2
   },
   "file_extension": ".py",
   "mimetype": "text/x-python",
   "name": "python",
   "nbconvert_exporter": "python",
   "pygments_lexer": "ipython2",
   "version": "2.7.13"
  }
 },
 "nbformat": 4,
 "nbformat_minor": 2
}
