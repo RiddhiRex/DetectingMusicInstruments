{
 "cells": [
  {
   "cell_type": "code",
   "execution_count": 4,
   "metadata": {
    "collapsed": true
   },
   "outputs": [],
   "source": [
    "import numpy as np\n",
    "import pandas as pd\n",
    "import sklearn as sk\n",
    "import librosa as lib\n",
    "from sklearn import neighbors\n",
    "import sys\n",
    "from sklearn.externals import joblib\n",
    "from sklearn import preprocessing\n",
    "IRMAS = 1\n",
    "RWC=2\n",
    "PHILHARMONIA = 3"
   ]
  },
  {
   "cell_type": "code",
   "execution_count": 6,
   "metadata": {
    "collapsed": true
   },
   "outputs": [],
   "source": [
    "def preprocess(data):\n",
    "\n",
    "    y_test = data['class']\n",
    "    X_test = data.drop(['class'], axis=1).values\n",
    "    X_test = preprocessing.Imputer().fit_transform(X_test)\n",
    "    return X_test, y_test"
   ]
  },
  {
   "cell_type": "code",
   "execution_count": 22,
   "metadata": {
    "collapsed": true
   },
   "outputs": [],
   "source": [
    "def loadModel(dataset):\n",
    "    if dataset ==IRMAS:\n",
    "        model = joblib.load('irmas2.model')\n",
    "    if dataset == RWC:\n",
    "        model = joblib.load('rwc2.model')\n",
    "    if dataset == PHILHARMONIA:\n",
    "        model = joblib.load('Philharmonia2.model')\n",
    "    return model"
   ]
  },
  {
   "cell_type": "code",
   "execution_count": 8,
   "metadata": {
    "collapsed": true
   },
   "outputs": [],
   "source": [
    "def predict(model, features, instrument):\n",
    "    print(\"Testing the model\")\n",
    "    prediction = model.predict(features)\n",
    "    print(\"The instrument actually is :\", instrument)\n",
    "    return prediction"
   ]
  },
  {
   "cell_type": "code",
   "execution_count": 33,
   "metadata": {},
   "outputs": [],
   "source": [
    "def print_prediction(prediction1, prediction2, prediction3):\n",
    "    print(\" predictions of the music instrument are: \", prediction1, prediction2, prediction3)\n",
    "    \n",
    "    dict = {}\n",
    "    dict['0']='unknown'\n",
    "    dict['1']='Piano'\n",
    "    dict['2']='Electric Piano'\n",
    "    dict['3']='Harpsichord Piano'\n",
    "    dict['4'] = 'Glockenspiel'\n",
    "    dict['5']='Marimba'\n",
    "    dict['6']='Organ'\n",
    "    dict['7']='Accordion'\n",
    "    dict['8']='Harmonica'\n",
    "    dict['9']='Guitar'\n",
    "    dict['10']='Ukulele Guitar'\n",
    "    dict['11']='Acoustic Guitar'\n",
    "    dict['12']='Mandolin'\n",
    "    dict['13']='Electric Guitar'\n",
    "    dict['14']='Electric Bass'\n",
    "    dict['15']='Violin'\n",
    "    dict['16']='Viola'\n",
    "    dict['17']='Cello'\n",
    "    dict['18']='Contrabass'\n",
    "    dict['19']='Harp'\n",
    "    dict['20']='Timpani'\n",
    "    dict['21']='Trumpet'\n",
    "    dict['22']='Trombone'\n",
    "    dict['23']='Tuba'\n",
    "    dict['24']='Horn'\n",
    "    dict['25']='Soprano Sax'\n",
    "    dict['26']='Alto Sax'\n",
    "    dict['27']='Tenor Sax'\n",
    "    dict['28']='Baritone Sax'\n",
    "    dict['29']='English Horn'\n",
    "    dict['30']='Bassoon'\n",
    "    dict['31']='Clarinet'\n",
    "    dict['32']='Piccolo'\n",
    "    dict['33']='Flute'\n",
    "    dict['34']='Recorder'\n",
    "    dict['35']='Shakuhachi'\n",
    "    dict['36']='Banjo'\n",
    "    dict['37']='Shamisen'\n",
    "    dict['38']='Koto'\n",
    "    dict['39']='Sho'\n",
    "    dict['40']='Japanese Percussion'\n",
    "    dict['41']='Drums'\n",
    "    dict['42']='Rock Drums'\n",
    "    dict['43']='Jazz Drums'\n",
    "    dict['44']='Percussion'\n",
    "    dict['45']='Soprano'\n",
    "    dict['46']='Alto'\n",
    "    dict['47']='Tenor'\n",
    "    dict['48']='Baritone'\n",
    "    dict['49']='Bass'\n",
    "    dict['50']='R&B'\n",
    "    dict['51']='voice'\n",
    "    \"\"\"\n",
    "    if (prediction1 == prediction2 and prediction1==prediction3):\n",
    "        print('The instruments in the music piece is predicted as ', dict[prediction1])\n",
    "    elif prediction1 == prediction2 or prediction2==prediction3:\n",
    "        print('The instruments in the music piece is predicted as ', dict[prediction2])\n",
    "    elif prediction1 == prediction3 or prediction2==prediction3:\n",
    "        print('The instruments in the music piece is predicted as ', dict[prediction3])\n",
    "    elif dict[prediction1] in dict[prediction2] or dict[prediction3] in dict[prediction2]:\n",
    "        print('The instruments in the music piece is predicted as ', dict[prediction2])\n",
    "    elif prediction1 == 0 and prediction3 == 0 and prediction2!=0:\n",
    "        print('The instruments in the music piece is predicted as ', dict[prediction2])\n",
    "    elif prediction2 == 0 and prediction3 == 0 and prediction1!=0:\n",
    "        print('The instruments in the music piece is predicted as ', dict[prediction1])\n",
    "    elif prediction2 == 0 and prediction1 == 0 and prediction3!=0:\n",
    "        print('The instruments in the music piece is predicted as ', dict[prediction3])\n",
    "    else:\n",
    "    \"\"\"\n",
    "    print('Model 1: The instruments in the music piece is predicted as', dict[prediction1])\n",
    "    #print('Model 2: The instruments in the music piece is predicted as', dict[prediction2])\n",
    "    print('Model 3: The instruments in the music piece is predicted as', dict[prediction3])\n",
    "    return\n"
   ]
  },
  {
   "cell_type": "code",
   "execution_count": 29,
   "metadata": {
    "collapsed": true
   },
   "outputs": [],
   "source": [
    "def main():\n",
    "    print(\"Enter the audio file name you want to test:\")\n",
    "    dir_name='Datasets/TrainingData/pia/'\n",
    "    base_filename= raw_input()\n",
    "    filename = dir_name+base_filename\n",
    "    print filename\n",
    "    print(\"Get features from the music file\")\n",
    "    #feature = extract_for_one(filename)\n",
    "    #features = feature_set.append(convert_pool_to_dataframe(feature, instrument_code, filename))\n",
    "    feature = pd.DataFrame()\n",
    "    feature = pd.read_csv('Datasets/features_tru.csv')\n",
    "    features, instrument= preprocess(feature.head(3))\n",
    "\n",
    "    model1 = loadModel(IRMAS)\n",
    "    prediction1 = predict(model1, features, instrument)\n",
    "    \n",
    "    #model2 = loadModel(RWC)\n",
    "    #prediction2 = predict(model2, features, instrument)\n",
    "    prediction2 = 0\n",
    "    model3 = loadModel(PHILHARMONIA)\n",
    "    prediction3 = predict(model3, features, instrument)\n",
    "    \n",
    "    print_prediction(prediction1[0], prediction2, prediction3[0])"
   ]
  },
  {
   "cell_type": "code",
   "execution_count": 32,
   "metadata": {},
   "outputs": [
    {
     "name": "stdout",
     "output_type": "stream",
     "text": [
      "Enter the audio file name you want to test:\n",
      "asd\n",
      "Datasets/TrainingData/pia/asd\n",
      "Get features from the music file\n",
      "Testing the model\n",
      "('The instrument actually is :', 0    21\n",
      "1    21\n",
      "2    21\n",
      "Name: class, dtype: int64)\n",
      "Testing the model\n",
      "('The instrument actually is :', 0    21\n",
      "1    21\n",
      "2    21\n",
      "Name: class, dtype: int64)\n",
      "(' predictions of the music instrument are: ', 13, 0, 17)\n"
     ]
    },
    {
     "ename": "IndexError",
     "evalue": "invalid index to scalar variable.",
     "output_type": "error",
     "traceback": [
      "\u001b[1;31m\u001b[0m",
      "\u001b[1;31mIndexError\u001b[0mTraceback (most recent call last)",
      "\u001b[1;32m<ipython-input-32-2436fc2ab63a>\u001b[0m in \u001b[0;36m<module>\u001b[1;34m()\u001b[0m\n\u001b[0;32m      1\u001b[0m \u001b[1;32mif\u001b[0m \u001b[0m__name__\u001b[0m \u001b[1;33m==\u001b[0m \u001b[1;34m'__main__'\u001b[0m\u001b[1;33m:\u001b[0m\u001b[1;33m\u001b[0m\u001b[0m\n\u001b[1;32m----> 2\u001b[1;33m     \u001b[0mmain\u001b[0m\u001b[1;33m(\u001b[0m\u001b[1;33m)\u001b[0m\u001b[1;33m\u001b[0m\u001b[0m\n\u001b[0m",
      "\u001b[1;32m<ipython-input-29-3ba4054f4222>\u001b[0m in \u001b[0;36mmain\u001b[1;34m()\u001b[0m\n\u001b[0;32m     21\u001b[0m     \u001b[0mprediction3\u001b[0m \u001b[1;33m=\u001b[0m \u001b[0mpredict\u001b[0m\u001b[1;33m(\u001b[0m\u001b[0mmodel3\u001b[0m\u001b[1;33m,\u001b[0m \u001b[0mfeatures\u001b[0m\u001b[1;33m,\u001b[0m \u001b[0minstrument\u001b[0m\u001b[1;33m)\u001b[0m\u001b[1;33m\u001b[0m\u001b[0m\n\u001b[0;32m     22\u001b[0m \u001b[1;33m\u001b[0m\u001b[0m\n\u001b[1;32m---> 23\u001b[1;33m     \u001b[0mprint_prediction\u001b[0m\u001b[1;33m(\u001b[0m\u001b[0mprediction1\u001b[0m\u001b[1;33m[\u001b[0m\u001b[1;36m0\u001b[0m\u001b[1;33m]\u001b[0m\u001b[1;33m,\u001b[0m \u001b[0mprediction2\u001b[0m\u001b[1;33m,\u001b[0m \u001b[0mprediction3\u001b[0m\u001b[1;33m[\u001b[0m\u001b[1;36m0\u001b[0m\u001b[1;33m]\u001b[0m\u001b[1;33m)\u001b[0m\u001b[1;33m\u001b[0m\u001b[0m\n\u001b[0m",
      "\u001b[1;32m<ipython-input-31-6a0f8a082ba5>\u001b[0m in \u001b[0;36mprint_prediction\u001b[1;34m(prediction1, prediction2, prediction3)\u001b[0m\n\u001b[0;32m     72\u001b[0m     \u001b[1;32melse\u001b[0m\u001b[1;33m:\u001b[0m\u001b[1;33m\u001b[0m\u001b[0m\n\u001b[0;32m     73\u001b[0m     \"\"\"\n\u001b[1;32m---> 74\u001b[1;33m     \u001b[1;32mprint\u001b[0m\u001b[1;33m(\u001b[0m\u001b[1;34m'Model 1: The instruments in the music piece is predicted as'\u001b[0m\u001b[1;33m,\u001b[0m \u001b[0mdict\u001b[0m\u001b[1;33m[\u001b[0m\u001b[0mprediction1\u001b[0m\u001b[1;33m[\u001b[0m\u001b[1;36m0\u001b[0m\u001b[1;33m]\u001b[0m\u001b[1;33m]\u001b[0m\u001b[1;33m)\u001b[0m\u001b[1;33m\u001b[0m\u001b[0m\n\u001b[0m\u001b[0;32m     75\u001b[0m     \u001b[1;31m#print('Model 2: The instruments in the music piece is predicted as', dict[prediction2])\u001b[0m\u001b[1;33m\u001b[0m\u001b[1;33m\u001b[0m\u001b[0m\n\u001b[0;32m     76\u001b[0m     \u001b[1;32mprint\u001b[0m\u001b[1;33m(\u001b[0m\u001b[1;34m'Model 3: The instruments in the music piece is predicted as'\u001b[0m\u001b[1;33m,\u001b[0m \u001b[0mdict\u001b[0m\u001b[1;33m[\u001b[0m\u001b[0mprediction3\u001b[0m\u001b[1;33m[\u001b[0m\u001b[1;36m0\u001b[0m\u001b[1;33m]\u001b[0m\u001b[1;33m]\u001b[0m\u001b[1;33m)\u001b[0m\u001b[1;33m\u001b[0m\u001b[0m\n",
      "\u001b[1;31mIndexError\u001b[0m: invalid index to scalar variable."
     ]
    }
   ],
   "source": [
    "if __name__ == '__main__':\n",
    "    main()"
   ]
  }
 ],
 "metadata": {
  "kernelspec": {
   "display_name": "Python 2",
   "language": "python",
   "name": "python2"
  },
  "language_info": {
   "codemirror_mode": {
    "name": "ipython",
    "version": 2
   },
   "file_extension": ".py",
   "mimetype": "text/x-python",
   "name": "python",
   "nbconvert_exporter": "python",
   "pygments_lexer": "ipython2",
   "version": "2.7.13"
  }
 },
 "nbformat": 4,
 "nbformat_minor": 2
}
