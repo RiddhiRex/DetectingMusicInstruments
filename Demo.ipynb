{
 "cells": [
  {
   "cell_type": "code",
   "execution_count": 7,
   "metadata": {
    "collapsed": true
   },
   "outputs": [],
   "source": [
    "import numpy as np\n",
    "import pandas as pd\n",
    "import sklearn as sk\n",
    "import librosa as lib\n",
    "from sklearn import neighbors\n",
    "import sys\n",
    "from sklearn.externals import joblib\n",
    "from sklearn import preprocessing\n",
    "IRMAS = 1\n",
    "PHILHARMONIA = 2\n",
    "MIS =3"
   ]
  },
  {
   "cell_type": "code",
   "execution_count": 8,
   "metadata": {
    "collapsed": true
   },
   "outputs": [],
   "source": [
    "def preprocess(data):\n",
    "\n",
    "    y_test = data['class']\n",
    "    X_test = data.drop(['class'], axis=1).values\n",
    "    X_test = preprocessing.Imputer().fit_transform(X_test)\n",
    "    return X_test, y_test"
   ]
  },
  {
   "cell_type": "code",
   "execution_count": 9,
   "metadata": {
    "collapsed": true
   },
   "outputs": [],
   "source": [
    "def loadModel(dataset):\n",
    "    if dataset ==IRMAS:\n",
    "        model = joblib.load('irmas2.model')\n",
    "    if dataset == PHILHARMONIA:\n",
    "        model = joblib.load('Philharmonia2.model')\n",
    "    if dataset == MIS:\n",
    "        model = joblib.load('mis1.model')\n",
    "    return model"
   ]
  },
  {
   "cell_type": "code",
   "execution_count": 10,
   "metadata": {
    "collapsed": true
   },
   "outputs": [],
   "source": [
    "def predict(model, features, instrument):\n",
    "    print(\"Testing the model\")\n",
    "    prediction = model.predict(features)\n",
    "    return prediction"
   ]
  },
  {
   "cell_type": "code",
   "execution_count": 22,
   "metadata": {},
   "outputs": [],
   "source": [
    "def print_prediction(prediction1, prediction2, prediction3, instrument):\n",
    "    \n",
    "    dict = {}\n",
    "    dict[0]='Unknown instrument'\n",
    "    dict[1]='Piano'\n",
    "    dict[6]='Organ'\n",
    "    dict[9]='Guitar'\n",
    "    dict[11]='Acoustic Guitar'\n",
    "    dict[12]='Mandolin'\n",
    "    dict[13]='Electric Guitar'\n",
    "    dict[15]='Violin'\n",
    "    dict[17]='Cello'\n",
    "    dict[21]='Trumpet'\n",
    "    dict[25]='Sax'\n",
    "    dict[31]='Clarinet'\n",
    "    dict[33]='Flute'\n",
    "    dict[36]='Banjo'\n",
    "    dict[51]='Voice'\n",
    "    print(\"The true instrument in the music piece is \", dict[instrument])\n",
    "    if (prediction1 == prediction2 and prediction1==prediction3):\n",
    "        print('The instruments in the music piece is predicted as ', dict[prediction1])\n",
    "    elif prediction1 == prediction2 or prediction2==prediction3:\n",
    "        print('The instruments in the music piece is predicted as ', dict[prediction2])\n",
    "    elif prediction1 == prediction3 or prediction2==prediction3:\n",
    "        print('The instruments in the music piece is predicted as ', dict[prediction3])\n",
    "    elif prediction1 == prediction2 or prediction3 == prediction2:\n",
    "        print('The instruments in the music piece is predicted as ', dict[prediction2])\n",
    "    elif prediction1 == 0 and prediction3 == 0 and prediction2!=0:\n",
    "        print('The instruments in the music piece is predicted as ', dict[prediction2])\n",
    "    elif prediction2 == 0 and prediction3 == 0 and prediction1!=0:\n",
    "        print('The instruments in the music piece is predicted as ', dict[prediction1])\n",
    "    elif prediction2 == 0 and prediction1 == 0 and prediction3!=0:\n",
    "        print('The instruments in the music piece is predicted as ', dict[prediction3])\n",
    "    else:\n",
    "        print('Prediction 1:', dict[prediction1])\n",
    "        print('Prediction 2:', dict[prediction2])\n",
    "        print('Prediction 3:', dict[prediction3])\n",
    "    return\n"
   ]
  },
  {
   "cell_type": "code",
   "execution_count": 32,
   "metadata": {
    "collapsed": true
   },
   "outputs": [],
   "source": [
    "def main():\n",
    "    print(\"Enter the audio file name you want to test:\")\n",
    "    dir_name='Datasets/TrainingData/pia/'\n",
    "    base_filename= raw_input()\n",
    "    filename = dir_name+base_filename\n",
    "    print filename\n",
    "    print(\"Get features from the music file\")\n",
    "    #feature = extract_for_one(filename)\n",
    "    #features = feature_set.append(convert_pool_to_dataframe(feature, instrument_code, filename))\n",
    "    feature = pd.DataFrame()\n",
    "    feature = pd.read_csv('Datasets/features_gel.csv')\n",
    "    features, instrument= preprocess(feature.head(1))\n",
    "\n",
    "    model1 = loadModel(IRMAS)\n",
    "    prediction1 = predict(model1, features, instrument)\n",
    "    \n",
    "    model2 = loadModel(MIS)\n",
    "    prediction2 = predict(model2, features, instrument)\n",
    "    \n",
    "    model3 = loadModel(PHILHARMONIA)\n",
    "    prediction3 = predict(model3, features, instrument)\n",
    "\n",
    "    print_prediction(prediction1[0], prediction2[0], prediction3[0], instrument[0])"
   ]
  },
  {
   "cell_type": "code",
   "execution_count": 33,
   "metadata": {},
   "outputs": [
    {
     "name": "stdout",
     "output_type": "stream",
     "text": [
      "Enter the audio file name you want to test:\n",
      "asd\n",
      "Datasets/TrainingData/pia/asd\n",
      "Get features from the music file\n",
      "Testing the model\n",
      "Testing the model\n",
      "Testing the model\n",
      "('The true instrument in the music piece is ', 'Electric Guitar')\n",
      "('Prediction 1:', 'voice')\n",
      "('Prediction 2:', 'Flute')\n",
      "('Prediction 3:', 'Cello')\n"
     ]
    }
   ],
   "source": [
    "if __name__ == '__main__':\n",
    "    main()"
   ]
  }
 ],
 "metadata": {
  "kernelspec": {
   "display_name": "Python 2",
   "language": "python",
   "name": "python2"
  },
  "language_info": {
   "codemirror_mode": {
    "name": "ipython",
    "version": 2
   },
   "file_extension": ".py",
   "mimetype": "text/x-python",
   "name": "python",
   "nbconvert_exporter": "python",
   "pygments_lexer": "ipython2",
   "version": "2.7.13"
  }
 },
 "nbformat": 4,
 "nbformat_minor": 2
}
