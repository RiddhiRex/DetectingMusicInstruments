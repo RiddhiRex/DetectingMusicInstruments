{
 "cells": [
  {
   "cell_type": "code",
   "execution_count": 30,
   "metadata": {},
   "outputs": [],
   "source": [
    "import numpy as np\n",
    "import pandas as pd\n",
    "import sklearn as sk\n",
    "import librosa as lib\n",
    "from sklearn import neighbors\n",
    "import sys\n",
    "from sklearn.externals import joblib\n",
    "from sklearn import preprocessing\n",
    "IRMAS = 1\n",
    "RWC=2\n",
    "PHILHARMONICA = 3"
   ]
  },
  {
   "cell_type": "code",
   "execution_count": 50,
   "metadata": {
    "collapsed": true
   },
   "outputs": [],
   "source": [
    "def preprocess(data):\n",
    "    data.drop(data.columns[0],axis=1,inplace=True)\n",
    "    y_test = data['class']\n",
    "    le = preprocessing.LabelEncoder()\n",
    "    y_test = le.fit_transform(y_test)\n",
    "    X_test = data.drop(['class'], axis=1).values\n",
    "    X_test = preprocessing.Imputer().fit_transform(X_test)\n",
    "    return X_test, y_test"
   ]
  },
  {
   "cell_type": "code",
   "execution_count": 25,
   "metadata": {
    "collapsed": true
   },
   "outputs": [],
   "source": [
    "def loadModel(dataset):\n",
    "    if dataset ==IRMAS:\n",
    "        model = joblib.load('newSVC.model')\n",
    "    if dataset == RWC:\n",
    "        model = joblib.load('rwcSVC2.model')\n",
    "    if dataset == PHILHARMONICA:\n",
    "        model = joblib.load('newPhilharmonica.model')\n",
    "    return model"
   ]
  },
  {
   "cell_type": "code",
   "execution_count": 32,
   "metadata": {},
   "outputs": [],
   "source": [
    "def predict(model, features, instrument):\n",
    "    print(\"Testing the model\")\n",
    "    prediction = model.predict(features)\n",
    "    print(\"The instrument is :\", instrument)\n",
    "    return"
   ]
  },
  {
   "cell_type": "code",
   "execution_count": 51,
   "metadata": {},
   "outputs": [],
   "source": [
    "def main():\n",
    "    print(\"Enter the audio file name you want to test:\")\n",
    "    #Datasets/TestingData-Part1/Part1/(filename of wav file).txt\n",
    "    dir_name='Datasets/TrainingData'\n",
    "    #base_filename=input()\n",
    "    #filename = os.path.join(dir_name, base_filename)\n",
    "    print(\"Get features from the music file\")\n",
    "    #feature = extract_for_one(filename)\n",
    "    #features = feature_set.append(convert_pool_to_dataframe(feature, instrument_code, filename))\n",
    "    feature = pd.DataFrame()\n",
    "    feature = pd.read_csv('Datasets/demo_test.csv')\n",
    "    features, instrument= preprocess(feature)\n",
    "    print(\"printing instrument:::::\")\n",
    "    print instrument\n",
    "    #model1 = loadModel(IRMAS)\n",
    "    #prediction1 = predict(model1, features, instrument)\n",
    "    \n",
    "    model2 = loadModel(RWC)\n",
    "    prediction2 = predict(model2, features, instrument)\n",
    "    \n",
    "    model3 = loadModel(RWC)\n",
    "    prediction3 = predict(model3, features, instrument)\n",
    "    \n",
    "    print(\" predictions of the music instrument are:             \", prediction1, prediction2, prediction3)\n",
    "    \n",
    "    dict = {}\n",
    "    dict['0']='unknown'\n",
    "    dict['1']='Piano'\n",
    "    dict['2']='Electric Piano'\n",
    "    dict['3']='Harpsichord Piano'\n",
    "    dict['4'] = 'Glockenspiel'\n",
    "    dict['5']='Marimba'\n",
    "    dict['6']='Organ'\n",
    "    dict['7']='Accordion'\n",
    "    dict['8']='Harmonica'\n",
    "    dict['9']='Guitar'\n",
    "    dict['10']='Ukulele Guitar'\n",
    "    dict['11']='Acoustic Guitar'\n",
    "    dict['12']='Mandolin'\n",
    "    dict['13']='Electric Guitar'\n",
    "    dict['14']='Electric Bass'\n",
    "    dict['15']='Violin'\n",
    "    dict['16']='Viola'\n",
    "    dict['17']='Cello'\n",
    "    dict['18']='Contrabass'\n",
    "    dict['19']='Harp'\n",
    "    dict['20']='Timpani'\n",
    "    dict['21']='Trumpet'\n",
    "    dict['22']='Trombone'\n",
    "    dict['23']='Tuba'\n",
    "    dict['24']='Horn'\n",
    "    dict['25']='Soprano Sax'\n",
    "    dict['26']='Alto Sax'\n",
    "    dict['27']='Tenor Sax'\n",
    "    dict['28']='Baritone Sax'\n",
    "    dict['29']='English Horn'\n",
    "    dict['30']='Bassoon'\n",
    "    dict['31']='Clarinet'\n",
    "    dict['32']='Piccolo'\n",
    "    dict['33']='Flute'\n",
    "    dict['34']='Recorder'\n",
    "    dict['35']='Shakuhachi'\n",
    "    dict['36']='Banjo'\n",
    "    dict['37']='Shamisen'\n",
    "    dict['38']='Koto'\n",
    "    dict['39']='Sho'\n",
    "    dict['40']='Japanese Percussion'\n",
    "    dict['41']='Drums'\n",
    "    dict['42']='Rock Drums'\n",
    "    dict['43']='Jazz Drums'\n",
    "    dict['44']='Percussion'\n",
    "    dict['45']='Soprano'\n",
    "    dict['46']='Alto'\n",
    "    dict['47']='Tenor'\n",
    "    dict['48']='Baritone'\n",
    "    dict['49']='Bass'\n",
    "    dict['50']='R&B'\n",
    "    dict['51']='voice'\n",
    "    dict[prediction1]\n",
    "    if (prediction1 == prediction2 and prediction1==prediction3):\n",
    "        print('The instruments in the music piece is predicted as ', dict[prediction1])\n",
    "    elif prediction1 == prediction2 or prediction2==prediction3:\n",
    "        print('The instruments in the music piece is predicted as ', dict[prediction2])\n",
    "    elif prediction1 == prediction3 or prediction2==prediction3:\n",
    "        print('The instruments in the music piece is predicted as ', dict[prediction3])\n",
    "    elif dict[prediction1] in dict[prediction2] or dict[prediction3] in dict[prediction2]:\n",
    "        print('The instruments in the music piece is predicted as ', dict[prediction2])\n",
    "    elif prediction1 == 0 and prediction3 == 0 and prediction2!=0:\n",
    "        print('The instruments in the music piece is predicted as ', dict[prediction2])\n",
    "    elif prediction2 == 0 and prediction3 == 0 and prediction1!=0:\n",
    "        print('The instruments in the music piece is predicted as ', dict[prediction1])\n",
    "    elif prediction2 == 0 and prediction1 == 0 and prediction3!=0:\n",
    "        print('The instruments in the music piece is predicted as ', dict[prediction3])\n",
    "    else:\n",
    "        print('Model 1: The instruments in the music piece is predicted as', dict[prediction1])\n",
    "        print('Model 2: The instruments in the music piece is predicted as', dict[prediction2])\n",
    "        print('Model 3: The instruments in the music piece is predicted as', dict[prediction3])\n",
    "    "
   ]
  },
  {
   "cell_type": "code",
   "execution_count": 52,
   "metadata": {},
   "outputs": [
    {
     "name": "stdout",
     "output_type": "stream",
     "text": [
      "Enter the audio file name you want to test:\n",
      "Get features from the music file\n",
      "printing instrument:::::\n",
      "[0]\n",
      "Testing the model\n"
     ]
    },
    {
     "ename": "ValueError",
     "evalue": "operands could not be broadcast together with shapes (1,371) (368,) (1,371) ",
     "output_type": "error",
     "traceback": [
      "\u001b[1;31m\u001b[0m",
      "\u001b[1;31mValueError\u001b[0mTraceback (most recent call last)",
      "\u001b[1;32m<ipython-input-52-2436fc2ab63a>\u001b[0m in \u001b[0;36m<module>\u001b[1;34m()\u001b[0m\n\u001b[0;32m      1\u001b[0m \u001b[1;32mif\u001b[0m \u001b[0m__name__\u001b[0m \u001b[1;33m==\u001b[0m \u001b[1;34m'__main__'\u001b[0m\u001b[1;33m:\u001b[0m\u001b[1;33m\u001b[0m\u001b[0m\n\u001b[1;32m----> 2\u001b[1;33m     \u001b[0mmain\u001b[0m\u001b[1;33m(\u001b[0m\u001b[1;33m)\u001b[0m\u001b[1;33m\u001b[0m\u001b[0m\n\u001b[0m",
      "\u001b[1;32m<ipython-input-51-dffbffd3be83>\u001b[0m in \u001b[0;36mmain\u001b[1;34m()\u001b[0m\n\u001b[0;32m     17\u001b[0m \u001b[1;33m\u001b[0m\u001b[0m\n\u001b[0;32m     18\u001b[0m     \u001b[0mmodel2\u001b[0m \u001b[1;33m=\u001b[0m \u001b[0mloadModel\u001b[0m\u001b[1;33m(\u001b[0m\u001b[0mRWC\u001b[0m\u001b[1;33m)\u001b[0m\u001b[1;33m\u001b[0m\u001b[0m\n\u001b[1;32m---> 19\u001b[1;33m     \u001b[0mprediction2\u001b[0m \u001b[1;33m=\u001b[0m \u001b[0mpredict\u001b[0m\u001b[1;33m(\u001b[0m\u001b[0mmodel2\u001b[0m\u001b[1;33m,\u001b[0m \u001b[0mfeatures\u001b[0m\u001b[1;33m,\u001b[0m \u001b[0minstrument\u001b[0m\u001b[1;33m)\u001b[0m\u001b[1;33m\u001b[0m\u001b[0m\n\u001b[0m\u001b[0;32m     20\u001b[0m \u001b[1;33m\u001b[0m\u001b[0m\n\u001b[0;32m     21\u001b[0m     \u001b[0mmodel3\u001b[0m \u001b[1;33m=\u001b[0m \u001b[0mloadModel\u001b[0m\u001b[1;33m(\u001b[0m\u001b[0mRWC\u001b[0m\u001b[1;33m)\u001b[0m\u001b[1;33m\u001b[0m\u001b[0m\n",
      "\u001b[1;32m<ipython-input-32-862d402027b3>\u001b[0m in \u001b[0;36mpredict\u001b[1;34m(model, features, instrument)\u001b[0m\n\u001b[0;32m      1\u001b[0m \u001b[1;32mdef\u001b[0m \u001b[0mpredict\u001b[0m\u001b[1;33m(\u001b[0m\u001b[0mmodel\u001b[0m\u001b[1;33m,\u001b[0m \u001b[0mfeatures\u001b[0m\u001b[1;33m,\u001b[0m \u001b[0minstrument\u001b[0m\u001b[1;33m)\u001b[0m\u001b[1;33m:\u001b[0m\u001b[1;33m\u001b[0m\u001b[0m\n\u001b[0;32m      2\u001b[0m     \u001b[1;32mprint\u001b[0m\u001b[1;33m(\u001b[0m\u001b[1;34m\"Testing the model\"\u001b[0m\u001b[1;33m)\u001b[0m\u001b[1;33m\u001b[0m\u001b[0m\n\u001b[1;32m----> 3\u001b[1;33m     \u001b[0mprediction\u001b[0m \u001b[1;33m=\u001b[0m \u001b[0mmodel\u001b[0m\u001b[1;33m.\u001b[0m\u001b[0mpredict\u001b[0m\u001b[1;33m(\u001b[0m\u001b[0mfeatures\u001b[0m\u001b[1;33m)\u001b[0m\u001b[1;33m\u001b[0m\u001b[0m\n\u001b[0m\u001b[0;32m      4\u001b[0m     \u001b[1;32mprint\u001b[0m\u001b[1;33m(\u001b[0m\u001b[1;34m\"The instrument is :\"\u001b[0m\u001b[1;33m,\u001b[0m \u001b[0minstrument\u001b[0m\u001b[1;33m)\u001b[0m\u001b[1;33m\u001b[0m\u001b[0m\n\u001b[0;32m      5\u001b[0m     \u001b[1;32mreturn\u001b[0m\u001b[1;33m\u001b[0m\u001b[0m\n",
      "\u001b[1;32mC:\\Users\\Admin\\Anaconda2\\lib\\site-packages\\sklearn\\utils\\metaestimators.pyc\u001b[0m in \u001b[0;36m<lambda>\u001b[1;34m(*args, **kwargs)\u001b[0m\n\u001b[0;32m     52\u001b[0m \u001b[1;33m\u001b[0m\u001b[0m\n\u001b[0;32m     53\u001b[0m         \u001b[1;31m# lambda, but not partial, allows help() to work with update_wrapper\u001b[0m\u001b[1;33m\u001b[0m\u001b[1;33m\u001b[0m\u001b[0m\n\u001b[1;32m---> 54\u001b[1;33m         \u001b[0mout\u001b[0m \u001b[1;33m=\u001b[0m \u001b[1;32mlambda\u001b[0m \u001b[1;33m*\u001b[0m\u001b[0margs\u001b[0m\u001b[1;33m,\u001b[0m \u001b[1;33m**\u001b[0m\u001b[0mkwargs\u001b[0m\u001b[1;33m:\u001b[0m \u001b[0mself\u001b[0m\u001b[1;33m.\u001b[0m\u001b[0mfn\u001b[0m\u001b[1;33m(\u001b[0m\u001b[0mobj\u001b[0m\u001b[1;33m,\u001b[0m \u001b[1;33m*\u001b[0m\u001b[0margs\u001b[0m\u001b[1;33m,\u001b[0m \u001b[1;33m**\u001b[0m\u001b[0mkwargs\u001b[0m\u001b[1;33m)\u001b[0m\u001b[1;33m\u001b[0m\u001b[0m\n\u001b[0m\u001b[0;32m     55\u001b[0m         \u001b[1;31m# update the docstring of the returned function\u001b[0m\u001b[1;33m\u001b[0m\u001b[1;33m\u001b[0m\u001b[0m\n\u001b[0;32m     56\u001b[0m         \u001b[0mupdate_wrapper\u001b[0m\u001b[1;33m(\u001b[0m\u001b[0mout\u001b[0m\u001b[1;33m,\u001b[0m \u001b[0mself\u001b[0m\u001b[1;33m.\u001b[0m\u001b[0mfn\u001b[0m\u001b[1;33m)\u001b[0m\u001b[1;33m\u001b[0m\u001b[0m\n",
      "\u001b[1;32mC:\\Users\\Admin\\Anaconda2\\lib\\site-packages\\sklearn\\pipeline.pyc\u001b[0m in \u001b[0;36mpredict\u001b[1;34m(self, X)\u001b[0m\n\u001b[0;32m    324\u001b[0m         \u001b[1;32mfor\u001b[0m \u001b[0mname\u001b[0m\u001b[1;33m,\u001b[0m \u001b[0mtransform\u001b[0m \u001b[1;32min\u001b[0m \u001b[0mself\u001b[0m\u001b[1;33m.\u001b[0m\u001b[0msteps\u001b[0m\u001b[1;33m[\u001b[0m\u001b[1;33m:\u001b[0m\u001b[1;33m-\u001b[0m\u001b[1;36m1\u001b[0m\u001b[1;33m]\u001b[0m\u001b[1;33m:\u001b[0m\u001b[1;33m\u001b[0m\u001b[0m\n\u001b[0;32m    325\u001b[0m             \u001b[1;32mif\u001b[0m \u001b[0mtransform\u001b[0m \u001b[1;32mis\u001b[0m \u001b[1;32mnot\u001b[0m \u001b[0mNone\u001b[0m\u001b[1;33m:\u001b[0m\u001b[1;33m\u001b[0m\u001b[0m\n\u001b[1;32m--> 326\u001b[1;33m                 \u001b[0mXt\u001b[0m \u001b[1;33m=\u001b[0m \u001b[0mtransform\u001b[0m\u001b[1;33m.\u001b[0m\u001b[0mtransform\u001b[0m\u001b[1;33m(\u001b[0m\u001b[0mXt\u001b[0m\u001b[1;33m)\u001b[0m\u001b[1;33m\u001b[0m\u001b[0m\n\u001b[0m\u001b[0;32m    327\u001b[0m         \u001b[1;32mreturn\u001b[0m \u001b[0mself\u001b[0m\u001b[1;33m.\u001b[0m\u001b[0msteps\u001b[0m\u001b[1;33m[\u001b[0m\u001b[1;33m-\u001b[0m\u001b[1;36m1\u001b[0m\u001b[1;33m]\u001b[0m\u001b[1;33m[\u001b[0m\u001b[1;33m-\u001b[0m\u001b[1;36m1\u001b[0m\u001b[1;33m]\u001b[0m\u001b[1;33m.\u001b[0m\u001b[0mpredict\u001b[0m\u001b[1;33m(\u001b[0m\u001b[0mXt\u001b[0m\u001b[1;33m)\u001b[0m\u001b[1;33m\u001b[0m\u001b[0m\n\u001b[0;32m    328\u001b[0m \u001b[1;33m\u001b[0m\u001b[0m\n",
      "\u001b[1;32mC:\\Users\\Admin\\Anaconda2\\lib\\site-packages\\sklearn\\preprocessing\\data.pyc\u001b[0m in \u001b[0;36mtransform\u001b[1;34m(self, X, y, copy)\u001b[0m\n\u001b[0;32m    658\u001b[0m         \u001b[1;32melse\u001b[0m\u001b[1;33m:\u001b[0m\u001b[1;33m\u001b[0m\u001b[0m\n\u001b[0;32m    659\u001b[0m             \u001b[1;32mif\u001b[0m \u001b[0mself\u001b[0m\u001b[1;33m.\u001b[0m\u001b[0mwith_mean\u001b[0m\u001b[1;33m:\u001b[0m\u001b[1;33m\u001b[0m\u001b[0m\n\u001b[1;32m--> 660\u001b[1;33m                 \u001b[0mX\u001b[0m \u001b[1;33m-=\u001b[0m \u001b[0mself\u001b[0m\u001b[1;33m.\u001b[0m\u001b[0mmean_\u001b[0m\u001b[1;33m\u001b[0m\u001b[0m\n\u001b[0m\u001b[0;32m    661\u001b[0m             \u001b[1;32mif\u001b[0m \u001b[0mself\u001b[0m\u001b[1;33m.\u001b[0m\u001b[0mwith_std\u001b[0m\u001b[1;33m:\u001b[0m\u001b[1;33m\u001b[0m\u001b[0m\n\u001b[0;32m    662\u001b[0m                 \u001b[0mX\u001b[0m \u001b[1;33m/=\u001b[0m \u001b[0mself\u001b[0m\u001b[1;33m.\u001b[0m\u001b[0mscale_\u001b[0m\u001b[1;33m\u001b[0m\u001b[0m\n",
      "\u001b[1;31mValueError\u001b[0m: operands could not be broadcast together with shapes (1,371) (368,) (1,371) "
     ]
    }
   ],
   "source": [
    "if __name__ == '__main__':\n",
    "    main()"
   ]
  }
 ],
 "metadata": {
  "kernelspec": {
   "display_name": "Python 2",
   "language": "python",
   "name": "python2"
  },
  "language_info": {
   "codemirror_mode": {
    "name": "ipython",
    "version": 2
   },
   "file_extension": ".py",
   "mimetype": "text/x-python",
   "name": "python",
   "nbconvert_exporter": "python",
   "pygments_lexer": "ipython2",
   "version": "2.7.13"
  }
 },
 "nbformat": 4,
 "nbformat_minor": 2
}
