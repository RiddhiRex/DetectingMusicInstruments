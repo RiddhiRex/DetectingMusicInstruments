{
 "cells": [
  {
   "cell_type": "code",
   "execution_count": 1,
   "metadata": {},
   "outputs": [
    {
     "name": "stderr",
     "output_type": "stream",
     "text": [
      "C:\\Users\\Admin\\Anaconda2\\lib\\site-packages\\sklearn\\cross_validation.py:44: DeprecationWarning: This module was deprecated in version 0.18 in favor of the model_selection module into which all the refactored classes and functions are moved. Also note that the interface of the new CV iterators are different from that of this module. This module will be removed in 0.20.\n",
      "  \"This module will be removed in 0.20.\", DeprecationWarning)\n",
      "C:\\Users\\Admin\\Anaconda2\\lib\\site-packages\\sklearn\\grid_search.py:43: DeprecationWarning: This module was deprecated in version 0.18 in favor of the model_selection module into which all the refactored classes and functions are moved. This module will be removed in 0.20.\n",
      "  DeprecationWarning)\n"
     ]
    }
   ],
   "source": [
    "import numpy as np\n",
    "import pandas as pd\n",
    "import sklearn as sk\n",
    "import librosa\n",
    "import glob\n",
    "import os\n",
    "from sklearn import svm\n",
    "\n",
    "from sklearn import preprocessing\n",
    "from sklearn.feature_selection import SelectKBest, chi2\n",
    "from sklearn.pipeline import Pipeline\n",
    "from sklearn.grid_search import GridSearchCV\n",
    "\n",
    "from sklearn.preprocessing import MultiLabelBinarizer\n",
    "from sklearn import neighbors\n",
    "from sklearn import decomposition\n",
    "from sklearn.externals import joblib\n",
    "from sklearn.model_selection import train_test_split\n",
    "from sklearn.metrics import mean_squared_error, mean_absolute_error, accuracy_score, confusion_matrix, classification_report\n",
    "from sklearn.metrics import precision_recall_fscore_support\n",
    "#import Preprocessing"
   ]
  },
  {
   "cell_type": "code",
   "execution_count": 14,
   "metadata": {
    "collapsed": true
   },
   "outputs": [],
   "source": [
    "frameSize=2048\n",
    "hopSize=1024\n",
    "sampleRate = 44100"
   ]
  },
  {
   "cell_type": "code",
   "execution_count": 15,
   "metadata": {
    "collapsed": true
   },
   "outputs": [],
   "source": [
    "def extract_for_one(filename):\n",
    "    loader = essentia.standard.MonoLoader(filename = filename)\n",
    "    features = FeatureExtractor(frameSize=2048, hopSize=1024, sampleRate=44100)\n",
    "    p = essentia.Pool()\n",
    "    for desc, output in features.outputs.items():\n",
    "        output >> (p, desc)\n",
    "\n",
    "    essentia.run(loader)\n",
    "\n",
    "    stats = ['mean', 'var', 'dmean', 'dvar']\n",
    "    statsPool = essentia.standard.PoolAggregator(defaultStats=stats)(p)\n",
    "    return statsPool"
   ]
  },
  {
   "cell_type": "code",
   "execution_count": 16,
   "metadata": {
    "collapsed": true
   },
   "outputs": [],
   "source": [
    "def convert_pool_to_dataframe(essentia_pool, inst_code, filename):\n",
    "    pool_dict = dict()\n",
    "    for desc in essentia_pool.descriptorNames():\n",
    "        if type(essentia_pool[desc]) is float:\n",
    "            pool_dict[desc] = essentia_pool[desc]\n",
    "        elif type(essentia_pool[desc]) is numpy.ndarray:\n",
    "            # we have to treat multivariate descriptors differently\n",
    "            for i, value in enumerate(essentia_pool[desc]):\n",
    "                feature_name = \"{desc_name}{desc_number}.{desc_stat}\".format(\n",
    "                    desc_name=desc.split('.')[0],\n",
    "                    desc_number=i,\n",
    "                    desc_stat=desc.split('.')[1])\n",
    "                pool_dict[feature_name] = value\n",
    "    pool_dict['inst_code'] = inst_code\n",
    "    return pd.DataFrame(pool_dict, index=[os.path.basename(filename)])"
   ]
  },
  {
   "cell_type": "code",
   "execution_count": 3,
   "metadata": {
    "collapsed": true
   },
   "outputs": [],
   "source": [
    "def preprocess_traindata():\n",
    "    features = pd.DataFrame()\n",
    "    #reading all files recursively\n",
    "    files = glob.glob('Datasets\\TrainingData\\*\\*.wav')\n",
    "    np.random.shuffle(files)\n",
    "    for filename in files:\n",
    "        #Preprocess the music file to get features from it\n",
    "        music, sr = librosa.load(filename)\n",
    "        mfccs = librosa.feature.mfcc(y=music, sr=sr)\n",
    "        mean_mfccs = np.mean(mfccs, axis = 1)\n",
    "        feature = mean_mfccs.reshape(20)\n",
    "        if '[cel]' in filename[25:38]:\n",
    "            instrument_code = 1\n",
    "        elif '[flu]' in filename[25:38]:\n",
    "            instrument_code = 2\n",
    "        elif '[gac]' in filename[25:38]:\n",
    "            instrument_code = 3\n",
    "        elif '[gel]' in filename[25:38]:\n",
    "            instrument_code = 4\n",
    "        elif '[org]' in filename[25:38]:\n",
    "            instrument_code = 5\n",
    "        elif '[pia]' in filename[25:38]:\n",
    "            instrument_code = 6\n",
    "        elif '[sax]' in filename[25:38]:\n",
    "            instrument_code = 7\n",
    "        elif '[tru]' in filename[25:38]:\n",
    "            instrument_code = 8\n",
    "        elif '[vio]' in filename[25:38]:\n",
    "            instrument_code = 9\n",
    "        elif '[cla]' in filename[25:38]:\n",
    "            instrument_code = 10\n",
    "        elif '[voi]' in filename[25:38]:\n",
    "            instrument_code = 11\n",
    "        else:\n",
    "            instrument_code = 0\n",
    "            print('Unknown instrument found in the file', filename)\n",
    "\n",
    "        feature = extract_for_one(filename)\n",
    "        features = features.append(convert_pool_to_dataframe(feature, instrument_code, filename))\n",
    "    \n",
    "    filename='features.csv'\n",
    "    features.to_csv(filename, index=False)   \n",
    "    return features\n",
    "    "
   ]
  },
  {
   "cell_type": "code",
   "execution_count": 4,
   "metadata": {
    "collapsed": true
   },
   "outputs": [],
   "source": [
    "def preprocess_testdata():\n",
    "    music_data = []\n",
    "\n",
    "    #reading all files recursively\n",
    "    files = glob.glob('Datasets\\TestingData-Part1\\Part1\\*.wav')\n",
    "    np.random.shuffle(files)\n",
    "\n",
    "    for filename in files:\n",
    "        #Preprocess the music file to get features from it\n",
    "        music, sr = librosa.load(filename)\n",
    "        mfccs = librosa.feature.mfcc(y=music, sr=sr)\n",
    "        mean_mfccs = np.mean(mfccs, axis = 1)\n",
    "        feature = mean_mfccs.reshape(20)\n",
    "        # Open the corresponding text file containing list of instruments.\n",
    "        instrument_file = os.path.splitext(filename)[0]+'.txt'\n",
    "        #CHECK IF THE FILE IS TAKEN FROM THE RIGHT PATH\n",
    "        f = open(instrument_file, 'r')\n",
    "        instrument = []\n",
    "        for word in f:\n",
    "            if 'cel' in word:\n",
    "                instrument_code = 1\n",
    "            elif 'cla' in word:\n",
    "                instrument_code = 2\n",
    "            elif 'flu' in word:\n",
    "                instrument_code = 3\n",
    "            elif 'gac' in word:\n",
    "                instrument_code = 4\n",
    "            elif 'gel' in word:\n",
    "                instrument_code = 5\n",
    "            elif 'org' in word:\n",
    "                instrument_code = 6\n",
    "            elif 'pia' in word:\n",
    "                instrument_code = 7\n",
    "            elif 'sax' in word:\n",
    "                instrument_code = 8\n",
    "            elif 'tru' in word:\n",
    "                instrument_code = 9\n",
    "            elif 'vio' in word:\n",
    "                instrument_code = 10\n",
    "            elif 'voi' in word:\n",
    "                instrument_code = 11\n",
    "            else:\n",
    "                instrument_code = 0\n",
    "            instrument.append(instrument_code)\n",
    "        #Append the filename, feature and instrument list of each file into a list\n",
    "        #filelist.append(filename)\n",
    "        #featurelist.append(feature)\n",
    "        #inst_code.append(instrument)\n",
    "        #Copy the list into a dataframe\n",
    "        #df=pd.DataFrame()    \n",
    "        #df['filename']= filelist\n",
    "        #df['feature']= featurelist\n",
    "        #df['instrumentcode']= inst_code\n",
    "        file_data = [filename, feature, instrument]\n",
    "        music_data.append(file_data)\n",
    "\n",
    "        #return df\n",
    "    return music_data\n",
    "    "
   ]
  },
  {
   "cell_type": "code",
   "execution_count": 5,
   "metadata": {
    "collapsed": true
   },
   "outputs": [],
   "source": [
    "def unpack_data(data):\n",
    "    filename = np.array(map(lambda n: n[0], data))\n",
    "    feature = np.array(map(lambda n: n[1], data))\n",
    "    instrument = np.array(map(lambda n: n[2], data))\n",
    "    return filename, feature, instrument"
   ]
  },
  {
   "cell_type": "code",
   "execution_count": 6,
   "metadata": {
    "collapsed": true
   },
   "outputs": [],
   "source": [
    "def preprocess_trainingdata(data):\n",
    "    #Copy the parameters into a dataframe\n",
    "    #df = pd.DataFrame()\n",
    "    #df['feature'] = features\n",
    "    #df['instrumentcode'] = instrument_code\n",
    "    #Copying the paramters into an array\n",
    "    #features = np.array(features)\n",
    "    #instrument_code = np.array(instrument_code)\n",
    "    #filename, features, instrument_code = unpack_data(data)\n",
    "    \n",
    "    y = data['inst_code']\n",
    "    X = data.drop(['inst_code'], axis=1).values\n",
    "    X = preprocessing.Imputer().fit_transform(X)\n",
    "\n",
    "    le = preprocessing.LabelEncoder()\n",
    "    y = le.fit_transform(y)\n",
    "\n",
    "    estimators = [(\"scale\", preprocessing.StandardScaler()),\n",
    "                  ('anova_filter', SelectKBest(mutual_info_classif, k=100)),\n",
    "                  ('svm', svm.SVC(decision_function_shape='ovo'))]\n",
    "    \n",
    "    clf = Pipeline(estimators)\n",
    "    \n",
    "    #SVM\n",
    "    #svc = svm.LinearSVC()\n",
    "    #svc.fit(features, instrument_code)\n",
    "    \n",
    "    #KNN\n",
    "    #knn = neighbors.KNeighborsClassifier(n_neighbors=12)\n",
    "    #knn.fit(features, instrument_code)\n",
    "\n",
    "    return clf, X,y"
   ]
  },
  {
   "cell_type": "code",
   "execution_count": null,
   "metadata": {
    "collapsed": true
   },
   "outputs": [],
   "source": [
    "def train_and_test(clf, X,y)\n",
    "    X_train, X_test, y_train, y_test = train_test_split(X, y, test_size=0.2)\n",
    "    clf.fit(X_train, y_train)\n",
    "    y_pred = clf.predict(X_test)\n",
    "    Evaluate_accuracy(y_test, y_pred)\n",
    "    return clf"
   ]
  },
  {
   "cell_type": "code",
   "execution_count": 7,
   "metadata": {
    "collapsed": true
   },
   "outputs": [],
   "source": [
    "def predict(model, data):\n",
    "    filename, features, instrument_code = unpack_data(data)\n",
    "    \n",
    "    #PCA\n",
    "    #features = pca.transform(features)\n",
    "    \n",
    "    #SVM\n",
    "    prediction = model.predict(features)\n",
    "    \n",
    "    #mlb = MultiLabelBinarizer()\n",
    "    #instrument_code = mlb.fit_transform(instrument_code)/mlb.transform(instrument_code)\n",
    "    \n",
    "    #KNN\n",
    "    #prediction = model.predict(features)\n",
    "\n",
    "    #Evaluate the performance\n",
    "    Evaluate_accuracy(prediction, instrument_code)\n",
    "    return "
   ]
  },
  {
   "cell_type": "code",
   "execution_count": 17,
   "metadata": {
    "collapsed": true
   },
   "outputs": [],
   "source": [
    "#def visualize(pred, true_value)\n",
    "    "
   ]
  },
  {
   "cell_type": "code",
   "execution_count": 8,
   "metadata": {
    "collapsed": true
   },
   "outputs": [],
   "source": [
    "def Evaluate_accuracy(pred, true_value):\n",
    "    #Evaluate the accuracy of the model\n",
    "    #visualize(pred, true_value)\n",
    "    print(\"Accuracy score is\", accuracy_score(true_value.astype(int), pred.astype(int))*100)\n",
    "    print(\"Mean squared error\", mean_squared_error(true_value, pred))\n",
    "    rmse = np.sqrt(mean_squared_error(true_value, pred))\n",
    "    print(\"Root Mean Squared Error: {}\".format(rmse))\n",
    "    print(\"Mean absolute error:\", mean_absolute_error(true_value,pred))\n",
    "    print(\"Classification Report: \",classification_report(true_value, pred))\n",
    "    print('confusion matrix:', confusion_matrix(true_value, pred))\n",
    "    print \"Micro stats:\"\n",
    "    print precision_recall_fscore_support(true_value, pred, average='micro')\n",
    "    print \"Macro stats:\"\n",
    "    print precision_recall_fscore_support(true_value, pred, average='macro')\n",
    "    return"
   ]
  },
  {
   "cell_type": "code",
   "execution_count": 9,
   "metadata": {
    "collapsed": true
   },
   "outputs": [],
   "source": [
    "def saveModel(model):\n",
    "    joblib.dump(model, 'gsclsclassifier.model')\n",
    "    #joblib.dump(pca, 'pcaclassifier.model')\n",
    "    #joblib.dump(model, 'svmclassifier.model')\n",
    "    #joblib.dump(knn, 'knnclassifier.model')\n",
    "    return"
   ]
  },
  {
   "cell_type": "code",
   "execution_count": 10,
   "metadata": {
    "collapsed": true
   },
   "outputs": [],
   "source": [
    "def loadModel():\n",
    "    #model = joblib.load('newclassifier.model')\n",
    "    #pca = joblib.load('pcaclassifier.model')\n",
    "    svc = joblib.load('svmclassifier.model')\n",
    "    #knn = joblib.load('knnclassifier.model')\n",
    "    return svc"
   ]
  },
  {
   "cell_type": "code",
   "execution_count": 11,
   "metadata": {
    "collapsed": true
   },
   "outputs": [],
   "source": [
    "def main():\n",
    "    features = preprocess_traindata()\n",
    "\n",
    "    model, features, targetvalue= preprocess_trainingdata(features)\n",
    "    clf = train_and_test(model, features, targetvalue)\n",
    "    #saveModel(model)\n",
    "\n",
    "    #model = loadModel()\n",
    "    #test_data = preprocess_testdata()\n",
    "    #test_data = preprocess_traindata()\n",
    "    #predict(model, test_data)\n"
   ]
  },
  {
   "cell_type": "code",
   "execution_count": 12,
   "metadata": {},
   "outputs": [
    {
     "ename": "KeyboardInterrupt",
     "evalue": "",
     "output_type": "error",
     "traceback": [
      "\u001b[1;31m\u001b[0m",
      "\u001b[1;31mKeyboardInterrupt\u001b[0mTraceback (most recent call last)",
      "\u001b[1;32m<ipython-input-12-2436fc2ab63a>\u001b[0m in \u001b[0;36m<module>\u001b[1;34m()\u001b[0m\n\u001b[0;32m      1\u001b[0m \u001b[1;32mif\u001b[0m \u001b[0m__name__\u001b[0m \u001b[1;33m==\u001b[0m \u001b[1;34m'__main__'\u001b[0m\u001b[1;33m:\u001b[0m\u001b[1;33m\u001b[0m\u001b[0m\n\u001b[1;32m----> 2\u001b[1;33m     \u001b[0mmain\u001b[0m\u001b[1;33m(\u001b[0m\u001b[1;33m)\u001b[0m\u001b[1;33m\u001b[0m\u001b[0m\n\u001b[0m",
      "\u001b[1;32m<ipython-input-11-5f1fb334464d>\u001b[0m in \u001b[0;36mmain\u001b[1;34m()\u001b[0m\n\u001b[0;32m      1\u001b[0m \u001b[1;32mdef\u001b[0m \u001b[0mmain\u001b[0m\u001b[1;33m(\u001b[0m\u001b[1;33m)\u001b[0m\u001b[1;33m:\u001b[0m\u001b[1;33m\u001b[0m\u001b[0m\n\u001b[1;32m----> 2\u001b[1;33m     \u001b[0mtrain_data\u001b[0m \u001b[1;33m=\u001b[0m \u001b[0mpreprocess_traindata\u001b[0m\u001b[1;33m(\u001b[0m\u001b[1;33m)\u001b[0m\u001b[1;33m\u001b[0m\u001b[0m\n\u001b[0m\u001b[0;32m      3\u001b[0m \u001b[1;33m\u001b[0m\u001b[0m\n\u001b[0;32m      4\u001b[0m     \u001b[0mmodel\u001b[0m\u001b[1;33m=\u001b[0m \u001b[0mtrain\u001b[0m\u001b[1;33m(\u001b[0m\u001b[0mtrain_data\u001b[0m\u001b[1;33m)\u001b[0m\u001b[1;33m\u001b[0m\u001b[0m\n\u001b[0;32m      5\u001b[0m     \u001b[1;31m#saveModel(model)\u001b[0m\u001b[1;33m\u001b[0m\u001b[1;33m\u001b[0m\u001b[0m\n",
      "\u001b[1;32m<ipython-input-3-cb8f5d708fb4>\u001b[0m in \u001b[0;36mpreprocess_traindata\u001b[1;34m()\u001b[0m\n\u001b[0;32m     49\u001b[0m         \u001b[0mdf\u001b[0m \u001b[1;33m=\u001b[0m \u001b[0mpd\u001b[0m\u001b[1;33m.\u001b[0m\u001b[0mDataFrame\u001b[0m\u001b[1;33m(\u001b[0m\u001b[0mmusic_data\u001b[0m\u001b[1;33m)\u001b[0m\u001b[1;33m\u001b[0m\u001b[0m\n\u001b[0;32m     50\u001b[0m         \u001b[0mfilename\u001b[0m\u001b[1;33m=\u001b[0m\u001b[1;34m'music_feature.csv'\u001b[0m\u001b[1;33m\u001b[0m\u001b[0m\n\u001b[1;32m---> 51\u001b[1;33m         \u001b[0mdf\u001b[0m\u001b[1;33m.\u001b[0m\u001b[0mto_csv\u001b[0m\u001b[1;33m(\u001b[0m\u001b[0mfilename\u001b[0m\u001b[1;33m,\u001b[0m \u001b[0mindex\u001b[0m\u001b[1;33m=\u001b[0m\u001b[0mFalse\u001b[0m\u001b[1;33m)\u001b[0m\u001b[1;33m\u001b[0m\u001b[0m\n\u001b[0m\u001b[0;32m     52\u001b[0m     \u001b[1;32mreturn\u001b[0m \u001b[0mmusic_data\u001b[0m\u001b[1;33m\u001b[0m\u001b[0m\n\u001b[0;32m     53\u001b[0m \u001b[1;33m\u001b[0m\u001b[0m\n",
      "\u001b[1;32mC:\\Users\\Admin\\Anaconda2\\lib\\site-packages\\pandas\\core\\frame.pyc\u001b[0m in \u001b[0;36mto_csv\u001b[1;34m(self, path_or_buf, sep, na_rep, float_format, columns, header, index, index_label, mode, encoding, compression, quoting, quotechar, line_terminator, chunksize, tupleize_cols, date_format, doublequote, escapechar, decimal)\u001b[0m\n\u001b[0;32m   1411\u001b[0m                                      \u001b[0mdoublequote\u001b[0m\u001b[1;33m=\u001b[0m\u001b[0mdoublequote\u001b[0m\u001b[1;33m,\u001b[0m\u001b[1;33m\u001b[0m\u001b[0m\n\u001b[0;32m   1412\u001b[0m                                      escapechar=escapechar, decimal=decimal)\n\u001b[1;32m-> 1413\u001b[1;33m         \u001b[0mformatter\u001b[0m\u001b[1;33m.\u001b[0m\u001b[0msave\u001b[0m\u001b[1;33m(\u001b[0m\u001b[1;33m)\u001b[0m\u001b[1;33m\u001b[0m\u001b[0m\n\u001b[0m\u001b[0;32m   1414\u001b[0m \u001b[1;33m\u001b[0m\u001b[0m\n\u001b[0;32m   1415\u001b[0m         \u001b[1;32mif\u001b[0m \u001b[0mpath_or_buf\u001b[0m \u001b[1;32mis\u001b[0m \u001b[0mNone\u001b[0m\u001b[1;33m:\u001b[0m\u001b[1;33m\u001b[0m\u001b[0m\n",
      "\u001b[1;32mC:\\Users\\Admin\\Anaconda2\\lib\\site-packages\\pandas\\io\\formats\\format.pyc\u001b[0m in \u001b[0;36msave\u001b[1;34m(self)\u001b[0m\n\u001b[0;32m   1581\u001b[0m                 \u001b[0mself\u001b[0m\u001b[1;33m.\u001b[0m\u001b[0mwriter\u001b[0m \u001b[1;33m=\u001b[0m \u001b[0mcsv\u001b[0m\u001b[1;33m.\u001b[0m\u001b[0mwriter\u001b[0m\u001b[1;33m(\u001b[0m\u001b[0mf\u001b[0m\u001b[1;33m,\u001b[0m \u001b[1;33m**\u001b[0m\u001b[0mwriter_kwargs\u001b[0m\u001b[1;33m)\u001b[0m\u001b[1;33m\u001b[0m\u001b[0m\n\u001b[0;32m   1582\u001b[0m \u001b[1;33m\u001b[0m\u001b[0m\n\u001b[1;32m-> 1583\u001b[1;33m             \u001b[0mself\u001b[0m\u001b[1;33m.\u001b[0m\u001b[0m_save\u001b[0m\u001b[1;33m(\u001b[0m\u001b[1;33m)\u001b[0m\u001b[1;33m\u001b[0m\u001b[0m\n\u001b[0m\u001b[0;32m   1584\u001b[0m \u001b[1;33m\u001b[0m\u001b[0m\n\u001b[0;32m   1585\u001b[0m         \u001b[1;32mfinally\u001b[0m\u001b[1;33m:\u001b[0m\u001b[1;33m\u001b[0m\u001b[0m\n",
      "\u001b[1;32mC:\\Users\\Admin\\Anaconda2\\lib\\site-packages\\pandas\\io\\formats\\format.pyc\u001b[0m in \u001b[0;36m_save\u001b[1;34m(self)\u001b[0m\n\u001b[0;32m   1682\u001b[0m                 \u001b[1;32mbreak\u001b[0m\u001b[1;33m\u001b[0m\u001b[0m\n\u001b[0;32m   1683\u001b[0m \u001b[1;33m\u001b[0m\u001b[0m\n\u001b[1;32m-> 1684\u001b[1;33m             \u001b[0mself\u001b[0m\u001b[1;33m.\u001b[0m\u001b[0m_save_chunk\u001b[0m\u001b[1;33m(\u001b[0m\u001b[0mstart_i\u001b[0m\u001b[1;33m,\u001b[0m \u001b[0mend_i\u001b[0m\u001b[1;33m)\u001b[0m\u001b[1;33m\u001b[0m\u001b[0m\n\u001b[0m\u001b[0;32m   1685\u001b[0m \u001b[1;33m\u001b[0m\u001b[0m\n\u001b[0;32m   1686\u001b[0m     \u001b[1;32mdef\u001b[0m \u001b[0m_save_chunk\u001b[0m\u001b[1;33m(\u001b[0m\u001b[0mself\u001b[0m\u001b[1;33m,\u001b[0m \u001b[0mstart_i\u001b[0m\u001b[1;33m,\u001b[0m \u001b[0mend_i\u001b[0m\u001b[1;33m)\u001b[0m\u001b[1;33m:\u001b[0m\u001b[1;33m\u001b[0m\u001b[0m\n",
      "\u001b[1;32mC:\\Users\\Admin\\Anaconda2\\lib\\site-packages\\pandas\\io\\formats\\format.pyc\u001b[0m in \u001b[0;36m_save_chunk\u001b[1;34m(self, start_i, end_i)\u001b[0m\n\u001b[0;32m   1708\u001b[0m                                         quoting=self.quoting)\n\u001b[0;32m   1709\u001b[0m \u001b[1;33m\u001b[0m\u001b[0m\n\u001b[1;32m-> 1710\u001b[1;33m         \u001b[0mlib\u001b[0m\u001b[1;33m.\u001b[0m\u001b[0mwrite_csv_rows\u001b[0m\u001b[1;33m(\u001b[0m\u001b[0mself\u001b[0m\u001b[1;33m.\u001b[0m\u001b[0mdata\u001b[0m\u001b[1;33m,\u001b[0m \u001b[0mix\u001b[0m\u001b[1;33m,\u001b[0m \u001b[0mself\u001b[0m\u001b[1;33m.\u001b[0m\u001b[0mnlevels\u001b[0m\u001b[1;33m,\u001b[0m \u001b[0mself\u001b[0m\u001b[1;33m.\u001b[0m\u001b[0mcols\u001b[0m\u001b[1;33m,\u001b[0m \u001b[0mself\u001b[0m\u001b[1;33m.\u001b[0m\u001b[0mwriter\u001b[0m\u001b[1;33m)\u001b[0m\u001b[1;33m\u001b[0m\u001b[0m\n\u001b[0m\u001b[0;32m   1711\u001b[0m \u001b[1;33m\u001b[0m\u001b[0m\n\u001b[0;32m   1712\u001b[0m \u001b[1;33m\u001b[0m\u001b[0m\n",
      "\u001b[1;32mpandas\\_libs\\lib.pyx\u001b[0m in \u001b[0;36mpandas._libs.lib.write_csv_rows (pandas\\_libs\\lib.c:19978)\u001b[1;34m()\u001b[0m\n",
      "\u001b[1;32mC:\\Users\\Admin\\Anaconda2\\lib\\site-packages\\numpy\\core\\numeric.pyc\u001b[0m in \u001b[0;36marray_str\u001b[1;34m(a, max_line_width, precision, suppress_small)\u001b[0m\n\u001b[0;32m   1959\u001b[0m \u001b[1;33m\u001b[0m\u001b[0m\n\u001b[0;32m   1960\u001b[0m     \"\"\"\n\u001b[1;32m-> 1961\u001b[1;33m     \u001b[1;32mreturn\u001b[0m \u001b[0marray2string\u001b[0m\u001b[1;33m(\u001b[0m\u001b[0ma\u001b[0m\u001b[1;33m,\u001b[0m \u001b[0mmax_line_width\u001b[0m\u001b[1;33m,\u001b[0m \u001b[0mprecision\u001b[0m\u001b[1;33m,\u001b[0m \u001b[0msuppress_small\u001b[0m\u001b[1;33m,\u001b[0m \u001b[1;34m' '\u001b[0m\u001b[1;33m,\u001b[0m \u001b[1;34m\"\"\u001b[0m\u001b[1;33m,\u001b[0m \u001b[0mstr\u001b[0m\u001b[1;33m)\u001b[0m\u001b[1;33m\u001b[0m\u001b[0m\n\u001b[0m\u001b[0;32m   1962\u001b[0m \u001b[1;33m\u001b[0m\u001b[0m\n\u001b[0;32m   1963\u001b[0m \u001b[1;33m\u001b[0m\u001b[0m\n",
      "\u001b[1;32mC:\\Users\\Admin\\Anaconda2\\lib\\site-packages\\numpy\\core\\arrayprint.pyc\u001b[0m in \u001b[0;36marray2string\u001b[1;34m(a, max_line_width, precision, suppress_small, separator, prefix, style, formatter)\u001b[0m\n\u001b[0;32m    461\u001b[0m     \u001b[1;32melse\u001b[0m\u001b[1;33m:\u001b[0m\u001b[1;33m\u001b[0m\u001b[0m\n\u001b[0;32m    462\u001b[0m         lst = _array2string(a, max_line_width, precision, suppress_small,\n\u001b[1;32m--> 463\u001b[1;33m                             separator, prefix, formatter=formatter)\n\u001b[0m\u001b[0;32m    464\u001b[0m     \u001b[1;32mreturn\u001b[0m \u001b[0mlst\u001b[0m\u001b[1;33m\u001b[0m\u001b[0m\n\u001b[0;32m    465\u001b[0m \u001b[1;33m\u001b[0m\u001b[0m\n",
      "\u001b[1;32mC:\\Users\\Admin\\Anaconda2\\lib\\site-packages\\numpy\\core\\arrayprint.pyc\u001b[0m in \u001b[0;36m_array2string\u001b[1;34m(a, max_line_width, precision, suppress_small, separator, prefix, formatter)\u001b[0m\n\u001b[0;32m    334\u001b[0m     lst = _formatArray(a, format_function, len(a.shape), max_line_width,\n\u001b[0;32m    335\u001b[0m                        \u001b[0mnext_line_prefix\u001b[0m\u001b[1;33m,\u001b[0m \u001b[0mseparator\u001b[0m\u001b[1;33m,\u001b[0m\u001b[1;33m\u001b[0m\u001b[0m\n\u001b[1;32m--> 336\u001b[1;33m                        _summaryEdgeItems, summary_insert)[:-1]\n\u001b[0m\u001b[0;32m    337\u001b[0m     \u001b[1;32mreturn\u001b[0m \u001b[0mlst\u001b[0m\u001b[1;33m\u001b[0m\u001b[0m\n\u001b[0;32m    338\u001b[0m \u001b[1;33m\u001b[0m\u001b[0m\n",
      "\u001b[1;32mC:\\Users\\Admin\\Anaconda2\\lib\\site-packages\\numpy\\core\\arrayprint.pyc\u001b[0m in \u001b[0;36m_formatArray\u001b[1;34m(a, format_function, rank, max_line_len, next_line_prefix, separator, edge_items, summary_insert)\u001b[0m\n\u001b[0;32m    505\u001b[0m \u001b[1;33m\u001b[0m\u001b[0m\n\u001b[0;32m    506\u001b[0m         \u001b[1;32mfor\u001b[0m \u001b[0mi\u001b[0m \u001b[1;32min\u001b[0m \u001b[0mrange\u001b[0m\u001b[1;33m(\u001b[0m\u001b[0mtrailing_items\u001b[0m\u001b[1;33m,\u001b[0m \u001b[1;36m1\u001b[0m\u001b[1;33m,\u001b[0m \u001b[1;33m-\u001b[0m\u001b[1;36m1\u001b[0m\u001b[1;33m)\u001b[0m\u001b[1;33m:\u001b[0m\u001b[1;33m\u001b[0m\u001b[0m\n\u001b[1;32m--> 507\u001b[1;33m             \u001b[0mword\u001b[0m \u001b[1;33m=\u001b[0m \u001b[0mformat_function\u001b[0m\u001b[1;33m(\u001b[0m\u001b[0ma\u001b[0m\u001b[1;33m[\u001b[0m\u001b[1;33m-\u001b[0m\u001b[0mi\u001b[0m\u001b[1;33m]\u001b[0m\u001b[1;33m)\u001b[0m \u001b[1;33m+\u001b[0m \u001b[0mseparator\u001b[0m\u001b[1;33m\u001b[0m\u001b[0m\n\u001b[0m\u001b[0;32m    508\u001b[0m             \u001b[0ms\u001b[0m\u001b[1;33m,\u001b[0m \u001b[0mline\u001b[0m \u001b[1;33m=\u001b[0m \u001b[0m_extendLine\u001b[0m\u001b[1;33m(\u001b[0m\u001b[0ms\u001b[0m\u001b[1;33m,\u001b[0m \u001b[0mline\u001b[0m\u001b[1;33m,\u001b[0m \u001b[0mword\u001b[0m\u001b[1;33m,\u001b[0m \u001b[0mmax_line_len\u001b[0m\u001b[1;33m,\u001b[0m \u001b[0mnext_line_prefix\u001b[0m\u001b[1;33m)\u001b[0m\u001b[1;33m\u001b[0m\u001b[0m\n\u001b[0;32m    509\u001b[0m \u001b[1;33m\u001b[0m\u001b[0m\n",
      "\u001b[1;32mC:\\Users\\Admin\\Anaconda2\\lib\\site-packages\\numpy\\core\\arrayprint.pyc\u001b[0m in \u001b[0;36m__call__\u001b[1;34m(self, x, strip_zeros)\u001b[0m\n\u001b[0;32m    609\u001b[0m         \u001b[1;32mfrom\u001b[0m \u001b[1;33m.\u001b[0m \u001b[1;32mimport\u001b[0m \u001b[0mnumeric\u001b[0m \u001b[1;32mas\u001b[0m \u001b[0m_nc\u001b[0m\u001b[1;33m\u001b[0m\u001b[0m\n\u001b[0;32m    610\u001b[0m \u001b[1;33m\u001b[0m\u001b[0m\n\u001b[1;32m--> 611\u001b[1;33m         \u001b[1;32mwith\u001b[0m \u001b[0m_nc\u001b[0m\u001b[1;33m.\u001b[0m\u001b[0merrstate\u001b[0m\u001b[1;33m(\u001b[0m\u001b[0minvalid\u001b[0m\u001b[1;33m=\u001b[0m\u001b[1;34m'ignore'\u001b[0m\u001b[1;33m)\u001b[0m\u001b[1;33m:\u001b[0m\u001b[1;33m\u001b[0m\u001b[0m\n\u001b[0m\u001b[0;32m    612\u001b[0m             \u001b[1;32mif\u001b[0m \u001b[0misnan\u001b[0m\u001b[1;33m(\u001b[0m\u001b[0mx\u001b[0m\u001b[1;33m)\u001b[0m\u001b[1;33m:\u001b[0m\u001b[1;33m\u001b[0m\u001b[0m\n\u001b[0;32m    613\u001b[0m                 \u001b[1;32mif\u001b[0m \u001b[0mself\u001b[0m\u001b[1;33m.\u001b[0m\u001b[0msign\u001b[0m\u001b[1;33m:\u001b[0m\u001b[1;33m\u001b[0m\u001b[0m\n",
      "\u001b[1;32mC:\\Users\\Admin\\Anaconda2\\lib\\site-packages\\numpy\\core\\numeric.pyc\u001b[0m in \u001b[0;36m__enter__\u001b[1;34m(self)\u001b[0m\n\u001b[0;32m   3088\u001b[0m \u001b[1;33m\u001b[0m\u001b[0m\n\u001b[0;32m   3089\u001b[0m     \u001b[1;32mdef\u001b[0m \u001b[0m__enter__\u001b[0m\u001b[1;33m(\u001b[0m\u001b[0mself\u001b[0m\u001b[1;33m)\u001b[0m\u001b[1;33m:\u001b[0m\u001b[1;33m\u001b[0m\u001b[0m\n\u001b[1;32m-> 3090\u001b[1;33m         \u001b[0mself\u001b[0m\u001b[1;33m.\u001b[0m\u001b[0moldstate\u001b[0m \u001b[1;33m=\u001b[0m \u001b[0mseterr\u001b[0m\u001b[1;33m(\u001b[0m\u001b[1;33m**\u001b[0m\u001b[0mself\u001b[0m\u001b[1;33m.\u001b[0m\u001b[0mkwargs\u001b[0m\u001b[1;33m)\u001b[0m\u001b[1;33m\u001b[0m\u001b[0m\n\u001b[0m\u001b[0;32m   3091\u001b[0m         \u001b[1;32mif\u001b[0m \u001b[0mself\u001b[0m\u001b[1;33m.\u001b[0m\u001b[0mcall\u001b[0m \u001b[1;32mis\u001b[0m \u001b[1;32mnot\u001b[0m \u001b[0m_Unspecified\u001b[0m\u001b[1;33m:\u001b[0m\u001b[1;33m\u001b[0m\u001b[0m\n\u001b[0;32m   3092\u001b[0m             \u001b[0mself\u001b[0m\u001b[1;33m.\u001b[0m\u001b[0moldcall\u001b[0m \u001b[1;33m=\u001b[0m \u001b[0mseterrcall\u001b[0m\u001b[1;33m(\u001b[0m\u001b[0mself\u001b[0m\u001b[1;33m.\u001b[0m\u001b[0mcall\u001b[0m\u001b[1;33m)\u001b[0m\u001b[1;33m\u001b[0m\u001b[0m\n",
      "\u001b[1;32mC:\\Users\\Admin\\Anaconda2\\lib\\site-packages\\numpy\\core\\numeric.pyc\u001b[0m in \u001b[0;36mseterr\u001b[1;34m(all, divide, over, under, invalid)\u001b[0m\n\u001b[0;32m   2776\u001b[0m         \u001b[0mover\u001b[0m \u001b[1;33m=\u001b[0m \u001b[0mall\u001b[0m \u001b[1;32mor\u001b[0m \u001b[0mold\u001b[0m\u001b[1;33m[\u001b[0m\u001b[1;34m'over'\u001b[0m\u001b[1;33m]\u001b[0m\u001b[1;33m\u001b[0m\u001b[0m\n\u001b[0;32m   2777\u001b[0m     \u001b[1;32mif\u001b[0m \u001b[0munder\u001b[0m \u001b[1;32mis\u001b[0m \u001b[0mNone\u001b[0m\u001b[1;33m:\u001b[0m\u001b[1;33m\u001b[0m\u001b[0m\n\u001b[1;32m-> 2778\u001b[1;33m         \u001b[0munder\u001b[0m \u001b[1;33m=\u001b[0m \u001b[0mall\u001b[0m \u001b[1;32mor\u001b[0m \u001b[0mold\u001b[0m\u001b[1;33m[\u001b[0m\u001b[1;34m'under'\u001b[0m\u001b[1;33m]\u001b[0m\u001b[1;33m\u001b[0m\u001b[0m\n\u001b[0m\u001b[0;32m   2779\u001b[0m     \u001b[1;32mif\u001b[0m \u001b[0minvalid\u001b[0m \u001b[1;32mis\u001b[0m \u001b[0mNone\u001b[0m\u001b[1;33m:\u001b[0m\u001b[1;33m\u001b[0m\u001b[0m\n\u001b[0;32m   2780\u001b[0m         \u001b[0minvalid\u001b[0m \u001b[1;33m=\u001b[0m \u001b[0mall\u001b[0m \u001b[1;32mor\u001b[0m \u001b[0mold\u001b[0m\u001b[1;33m[\u001b[0m\u001b[1;34m'invalid'\u001b[0m\u001b[1;33m]\u001b[0m\u001b[1;33m\u001b[0m\u001b[0m\n",
      "\u001b[1;31mKeyboardInterrupt\u001b[0m: "
     ]
    }
   ],
   "source": [
    "if __name__ == '__main__':\n",
    "    main()"
   ]
  },
  {
   "cell_type": "markdown",
   "metadata": {},
   "source": [
    "On testing with training data itself:\n",
    "When using KNN:\n",
    "('Accuracy score is', 62.4750499001996)\n",
    "('Mean squared error', 7.3732534930139719)\n",
    "Root Mean Squared Error: 2.71537354576\n",
    "('Mean absolute error:', 1.4131736526946108)\n",
    "When using SVM:\n",
    "('Number of filessssssssssssss trained', 1001)\n",
    "('Accuracy score is', 14.685314685314685)\n",
    "('Mean squared error', 31.002997002997002)\n",
    "Root Mean Squared Error: 5.56803349514\n",
    "('Mean absolute error:', 4.615384615384615)\n",
    "\n",
    "when using this code:\n",
    "    X = preprocessing.Imputer().fit_transform(features)\n",
    "    le = preprocessing.LabelEncoder()\n",
    "    y = le.fit_transform(instrument_code)\n",
    "    estimators = [(\"scale\", preprocessing.StandardScaler()),\n",
    "                  ('svm', svm.SVC(decision_function_shape='ovo'))]\n",
    "    \n",
    "    clf = Pipeline(estimators)\n",
    "    params = dict(svm__kernel=['rbf'], svm__C=[0.1],\n",
    "                  svm__degree=[1, 3], svm__gamma=[0.01])\n",
    "    gs = GridSearchCV(clf, param_grid=params, cv=10, verbose=2)\n",
    "    gs.fit(X, y)\n",
    "    prediction = gs.predict(X)\n",
    "    \n",
    "('Accuracy score is', 38.031319910514547)\n",
    "('Mean squared error', 12.879940343027592)\n",
    "Root Mean Squared Error: 3.58886337759\n",
    "('Mean absolute error:', 2.410439970171514)\n",
    "('Classification Report: ', '             precision    recall  f1-score   support\\n\\n          0       0.78      0.08      0.14       388\\n          1       0.56      0.07      0.12       451\\n          2       0.40      0.52      0.45       637\\n          3       0.35      0.44      0.39       760\\n          4       0.37      0.56      0.45       682\\n          5       0.41      0.56      0.47       721\\n          6       0.30      0.23      0.26       626\\n          7       0.51      0.27      0.35       577\\n          8       0.45      0.28      0.35       580\\n          9       0.51      0.19      0.28       505\\n         10       0.33      0.61      0.42       778\\n\\navg / total       0.43      0.38      0.35      6705\\n')\n",
    "('confusion matrix:', array([[ 31,   2,  89,  52,  19,  58,  36,   1,  63,   4,  33],\n",
    "       [  2,  31,  53,  21,  98,  86,  21,  11,  27,  27,  74],\n",
    "       [  0,   0, 333,  44,  66,  60,  19,   4,   4,   0, 107],\n",
    "       [  1,   1,  37, 337,  81,  56,  25,   6,  15,   0, 201],\n",
    "       [  1,   0,  30,  96, 380,  13,   5,  15,   4,   2, 136],\n",
    "       [  1,   1,  42,  43, 107, 402,  43,  11,   5,   4,  62],\n",
    "       [  0,   3,  51,  71,  50,  87, 146,  63,  13,  15, 127],\n",
    "       [  2,   5,  16,  55,  62,  70,  52, 156,  26,  27, 106],\n",
    "       [  1,   5,  61,  80,  37,  53,  64,  10, 165,  11,  93],\n",
    "       [  1,   7,  72,  47,  22,  96,  67,  22,  37,  96,  38],\n",
    "       [  0,   0,  50, 114, 102,   8,  13,   6,   9,   3, 473]]))\n",
    "Micro stats:\n",
    "(0.38031319910514544, 0.38031319910514544, 0.38031319910514544, None)\n",
    "Macro stats:\n",
    "(0.45071493277784475, 0.34688204167794512, 0.33565231678868362, None)"
   ]
  }
 ],
 "metadata": {
  "kernelspec": {
   "display_name": "Python 2",
   "language": "python",
   "name": "python2"
  },
  "language_info": {
   "codemirror_mode": {
    "name": "ipython",
    "version": 2
   },
   "file_extension": ".py",
   "mimetype": "text/x-python",
   "name": "python",
   "nbconvert_exporter": "python",
   "pygments_lexer": "ipython2",
   "version": "2.7.13"
  }
 },
 "nbformat": 4,
 "nbformat_minor": 2
}
