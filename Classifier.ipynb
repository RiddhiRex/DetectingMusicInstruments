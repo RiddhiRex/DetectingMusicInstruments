{
 "cells": [
  {
   "cell_type": "code",
   "execution_count": 1,
   "metadata": {},
   "outputs": [
    {
     "name": "stderr",
     "output_type": "stream",
     "text": [
      "C:\\Users\\Admin\\Anaconda2\\lib\\site-packages\\sklearn\\cross_validation.py:44: DeprecationWarning: This module was deprecated in version 0.18 in favor of the model_selection module into which all the refactored classes and functions are moved. Also note that the interface of the new CV iterators are different from that of this module. This module will be removed in 0.20.\n",
      "  \"This module will be removed in 0.20.\", DeprecationWarning)\n",
      "C:\\Users\\Admin\\Anaconda2\\lib\\site-packages\\sklearn\\grid_search.py:43: DeprecationWarning: This module was deprecated in version 0.18 in favor of the model_selection module into which all the refactored classes and functions are moved. This module will be removed in 0.20.\n",
      "  DeprecationWarning)\n"
     ]
    }
   ],
   "source": [
    "import pandas as pd\n",
    "import glob\n",
    "import numpy as np\n",
    "from sklearn import svm\n",
    "from sklearn import preprocessing\n",
    "from sklearn.cross_validation import StratifiedKFold, train_test_split\n",
    "from sklearn.feature_selection import SelectKBest, mutual_info_classif\n",
    "from sklearn.grid_search import GridSearchCV\n",
    "from sklearn import neighbors\n",
    "from sklearn.pipeline import Pipeline\n",
    "\n",
    "from sklearn.model_selection import train_test_split\n",
    "from sklearn.metrics import mean_squared_error, mean_absolute_error, accuracy_score\n",
    "from sklearn.metrics import precision_recall_fscore_support\n",
    "from sklearn.metrics import classification_report, confusion_matrix\n",
    "from sklearn.metrics import precision_recall_fscore_support\n",
    "from sklearn.externals import joblib\n",
    "import random\n",
    "import seaborn as sns\n",
    "import matplotlib.pyplot as plt\n",
    "from os import sys, path\n",
    "\n",
    "THRESHOLD = 20\n",
    "IRMAS = 1\n",
    "RWC=2\n",
    "PHILHARMONICA = 3\n",
    "sns.set()"
   ]
  },
  {
   "cell_type": "code",
   "execution_count": 14,
   "metadata": {
    "collapsed": true
   },
   "outputs": [],
   "source": [
    "def feature_preprocessing(dataset):\n",
    "    if(dataset == IRMAS):\n",
    "        # import wav files to build features\n",
    "        files = glob.glob('Datasets\\*.csv')\n",
    "        dfs = []\n",
    "        for filename in files:\n",
    "            dfs.append(pd.read_csv(filename))     \n",
    "        # Concatenate all dataFrames into a single DataFrame\n",
    "        data = pd.concat(dfs, ignore_index=True)\n",
    "    if(dataset == RWC):    \n",
    "        data = pd.read_csv(\"Datasets\\dataset_rwc\\essentia_rwc_features.csv\")\n",
    "        data.drop(data.columns[0],axis=1,inplace=True)\n",
    "    if(dataset == PHILHARMONICA):\n",
    "        files = glob.glob('Datasets\\philharmoni\\*.csv')\n",
    "        dfs = []\n",
    "        for filename in files:\n",
    "            dfs.append(pd.read_csv(filename))\n",
    "        # Concatenate all dataFrames into a single DataFrame\n",
    "        data = pd.concat(dfs, ignore_index=True)\n",
    "    print \"Done reading the music files\"\n",
    "    \n",
    "    #Transform the features and target value to fit\n",
    "    X = data.drop(['class'], axis=1).values\n",
    "    X = preprocessing.Imputer().fit_transform(X)\n",
    "    y = data['class']\n",
    "    le = preprocessing.LabelEncoder()\n",
    "    y = le.fit_transform(y)\n",
    "\n",
    "    steps = [(\"scale\", preprocessing.StandardScaler()),\n",
    "              ('anova_filter', SelectKBest(mutual_info_classif, k=100)),\n",
    "              ('svm', svm.SVC(decision_function_shape='ovo'))]\n",
    "    print dataset\n",
    "    print X.shape\n",
    "    print y.shape\n",
    "    model = Pipeline(steps)\n",
    "    return model, X, y"
   ]
  },
  {
   "cell_type": "code",
   "execution_count": 15,
   "metadata": {
    "collapsed": true
   },
   "outputs": [],
   "source": [
    "def saveModel(model, dataset):\n",
    "    if dataset ==IRMAS:\n",
    "        joblib.dump(model, 'irmas1.model')\n",
    "    if dataset == RWC:\n",
    "        joblib.dump(model, 'rwc1.model')\n",
    "    if dataset == PHILHARMONICA:\n",
    "        joblib.dump(model, 'Philharmonica1.model')\n",
    "    return"
   ]
  },
  {
   "cell_type": "code",
   "execution_count": 12,
   "metadata": {
    "collapsed": true
   },
   "outputs": [],
   "source": [
    "def loadModel(dataset):\n",
    "    if dataset ==IRMAS:\n",
    "        model = joblib.load('irmas1.model')\n",
    "    if dataset == RWC:\n",
    "        model = joblib.load('rwc1.model')\n",
    "    if dataset == PHILHARMONICA:\n",
    "        model = joblib.load('Philharmonica1.model')\n",
    "    return model"
   ]
  },
  {
   "cell_type": "code",
   "execution_count": 11,
   "metadata": {
    "collapsed": true
   },
   "outputs": [],
   "source": [
    "def train_test(clf, X_train, y_train, dataset):\n",
    "    print(\"Fitting the data\")\n",
    "    clf.fit(X_train, y_train)\n",
    "    print(\"Save the model\")\n",
    "    saveModel(clf, dataset)\n",
    "    print(\"Testing the model\")\n",
    "    y_pred = clf.predict(X_train)\n",
    "    print(\"Quantify the performance\")\n",
    "    Evaluate_accuracy(y_pred, y_train)\n",
    "    return\n"
   ]
  },
  {
   "cell_type": "code",
   "execution_count": 21,
   "metadata": {
    "collapsed": true
   },
   "outputs": [],
   "source": [
    "def Evaluate_accuracy(pred, true_value):\n",
    "\n",
    "    print(\"Accuracy score is \", accuracy_score(true_value, pred)*100)\n",
    "    rmse = np.sqrt(mean_squared_error(true_value, pred))\n",
    "    print(\"Root Mean Squared Error: {}\".format(rmse))\n",
    "    print(\"Mean absolute error:\", mean_absolute_error(true_value,pred))\n",
    "    print \"Micro stats:\"\n",
    "    print precision_recall_fscore_support(true_value, pred, average='micro')\n",
    "    print \"Macro stats:\"\n",
    "    print precision_recall_fscore_support(true_value, pred, average='macro')\n",
    "    print(\"Classification Report: \",classification_report(true_value, pred))\n",
    "    \n",
    "    cm=confusion_matrix(true_value,pred)\n",
    "    cm = cm.astype('float') / cm.sum(axis=1)[:, np.newaxis]\n",
    "    sns.heatmap(cm, annot=True, linewidths=.5)\n",
    "    plt.title('Confusion matrix: Normalized')\n",
    "    plt.xlabel('Predicted instrument code')\n",
    "    plt.ylabel('True value')\n",
    "    plt.show()\n",
    "    return"
   ]
  },
  {
   "cell_type": "code",
   "execution_count": 16,
   "metadata": {
    "scrolled": true
   },
   "outputs": [
    {
     "name": "stdout",
     "output_type": "stream",
     "text": [
      "Training and testing on IRMAS dataset\n",
      "Done reading the music files\n",
      "1\n",
      "(6706L, 372L)\n",
      "(6706L,)\n",
      "Fitting the data\n",
      "Save the model\n",
      "Testing the model\n",
      "Quantify the performance\n"
     ]
    },
    {
     "ename": "NameError",
     "evalue": "global name 'Evaluate_accuracy' is not defined",
     "output_type": "error",
     "traceback": [
      "\u001b[1;31m\u001b[0m",
      "\u001b[1;31mNameError\u001b[0mTraceback (most recent call last)",
      "\u001b[1;32m<ipython-input-16-796603cdf5fc>\u001b[0m in \u001b[0;36m<module>\u001b[1;34m()\u001b[0m\n\u001b[0;32m      2\u001b[0m     \u001b[1;32mprint\u001b[0m\u001b[1;33m(\u001b[0m\u001b[1;34m\"Training and testing on IRMAS dataset\"\u001b[0m\u001b[1;33m)\u001b[0m\u001b[1;33m\u001b[0m\u001b[0m\n\u001b[0;32m      3\u001b[0m     \u001b[0mclassifier\u001b[0m\u001b[1;33m,\u001b[0m \u001b[0mX\u001b[0m\u001b[1;33m,\u001b[0m \u001b[0my\u001b[0m \u001b[1;33m=\u001b[0m \u001b[0mfeature_preprocessing\u001b[0m\u001b[1;33m(\u001b[0m\u001b[0mIRMAS\u001b[0m\u001b[1;33m)\u001b[0m\u001b[1;33m\u001b[0m\u001b[0m\n\u001b[1;32m----> 4\u001b[1;33m     \u001b[0mtrain_test\u001b[0m\u001b[1;33m(\u001b[0m\u001b[0mclassifier\u001b[0m\u001b[1;33m,\u001b[0m \u001b[0mX\u001b[0m\u001b[1;33m,\u001b[0m \u001b[0my\u001b[0m\u001b[1;33m,\u001b[0m \u001b[0mIRMAS\u001b[0m\u001b[1;33m)\u001b[0m\u001b[1;33m\u001b[0m\u001b[0m\n\u001b[0m\u001b[0;32m      5\u001b[0m     \u001b[1;32mprint\u001b[0m\u001b[1;33m(\u001b[0m\u001b[1;34m\"Training and testing on RWC dataset\"\u001b[0m\u001b[1;33m)\u001b[0m\u001b[1;33m\u001b[0m\u001b[0m\n\u001b[0;32m      6\u001b[0m     \u001b[0mclassifier\u001b[0m\u001b[1;33m,\u001b[0m \u001b[0mX\u001b[0m\u001b[1;33m,\u001b[0m \u001b[0my\u001b[0m \u001b[1;33m=\u001b[0m \u001b[0mfeature_preprocessing\u001b[0m\u001b[1;33m(\u001b[0m\u001b[0mRWC\u001b[0m\u001b[1;33m)\u001b[0m\u001b[1;33m\u001b[0m\u001b[0m\n",
      "\u001b[1;32m<ipython-input-11-c20e07e85d1b>\u001b[0m in \u001b[0;36mtrain_test\u001b[1;34m(clf, X_train, y_train, dataset)\u001b[0m\n\u001b[0;32m      7\u001b[0m     \u001b[0my_pred\u001b[0m \u001b[1;33m=\u001b[0m \u001b[0mclf\u001b[0m\u001b[1;33m.\u001b[0m\u001b[0mpredict\u001b[0m\u001b[1;33m(\u001b[0m\u001b[0mX_train\u001b[0m\u001b[1;33m)\u001b[0m\u001b[1;33m\u001b[0m\u001b[0m\n\u001b[0;32m      8\u001b[0m     \u001b[1;32mprint\u001b[0m\u001b[1;33m(\u001b[0m\u001b[1;34m\"Quantify the performance\"\u001b[0m\u001b[1;33m)\u001b[0m\u001b[1;33m\u001b[0m\u001b[0m\n\u001b[1;32m----> 9\u001b[1;33m     \u001b[0mEvaluate_accuracy\u001b[0m\u001b[1;33m(\u001b[0m\u001b[0my_pred\u001b[0m\u001b[1;33m,\u001b[0m \u001b[0my_train\u001b[0m\u001b[1;33m)\u001b[0m\u001b[1;33m\u001b[0m\u001b[0m\n\u001b[0m\u001b[0;32m     10\u001b[0m     \u001b[1;32mreturn\u001b[0m\u001b[1;33m\u001b[0m\u001b[0m\n",
      "\u001b[1;31mNameError\u001b[0m: global name 'Evaluate_accuracy' is not defined"
     ]
    }
   ],
   "source": [
    "if __name__ == \"__main__\":\n",
    "    print(\"Training and testing on IRMAS dataset\")\n",
    "    classifier, X, y = feature_preprocessing(IRMAS)\n",
    "    train_test(classifier, X, y, IRMAS)\n",
    "    print(\"Training and testing on RWC dataset\")\n",
    "    classifier, X, y = feature_preprocessing(RWC)\n",
    "    train_test(classifier, X, y, RWC)\n",
    "    print(\"Training and testing on PHILHARMONICA dataset\")\n",
    "    classifier, X, y = feature_preprocessing(PHILHARMONICA)\n",
    "    train_test(classifier, X, y, PHILHARMONICA)\n",
    "    \n",
    "    #model1 = loadModel(IRMAS)\n",
    "    #test(model1, X, y)\n",
    "    \n",
    "    #model2 = loadModel(RWC)\n",
    "    #test(model2, X, y)\n",
    "    \n",
    "    #model3 = loadModel(PHILHARMONICA)\n",
    "    #test(model3, X, y)\n"
   ]
  },
  {
   "cell_type": "markdown",
   "metadata": {},
   "source": [
    "SVM MODEL: newsvc\n",
    "testing adn training with same data:\n",
    "('Accuracy score is', 59.000745712155108)\n",
    "('Mean squared error', 8.0609992542878448)\n",
    "Root Mean Squared Error: 2.83918989402\n",
    "('Mean absolute error:', 1.5372110365398957)\n",
    "\n",
    "KNN: newknn\n",
    "('Accuracy score is', 29.351230425055931)\n",
    "('Mean squared error', 14.32393736017897)\n",
    "Root Mean Squared Error: 3.78469778981\n",
    "('Mean absolute error:', 2.7221476510067113)\n",
    "\n",
    "\n",
    "svc MODEL WITH IRMAS AND rws dataset newsvc1:\n",
    "('Accuracy score is', 64.301159819146847)\n",
    "('Mean squared error', 18.851091016316101)\n",
    "Root Mean Squared Error: 4.34178431251\n",
    "('Mean absolute error:', 1.7246903872616473)\n",
    "\n",
    "svc model with collected irmas and downloaded irmas pdf. newsvc2:\n",
    "'Accuracy score is ', 45.569712946690103)\n",
    "('Mean squared error ', 8.7254686584651431)\n",
    "Root Mean Squared Error: 2.95389042763\n",
    "('Mean absolute error:', 1.7147773872290568)\n",
    "\n",
    "with rwc dataset alone: rwcsvc\n",
    "('Accuracy score is ', 83.962829736211035)\n",
    "('Mean squared error ', 15.04046762589928)\n",
    "Root Mean Squared Error: 3.87820417538\n",
    "('Mean absolute error:', 0.967326139088729)\n",
    "\n",
    "\n",
    "DATASET: Philharmonica ('Accuracy score is ', 97.343311506080454)\n",
    "Root Mean Squared Error: 0.600436386363\n",
    "('Mean absolute error:', 0.070907390084190836)\n",
    "Micro stats:\n",
    "(0.97343311506080454, 0.97343311506080454, 0.97343311506080454, None)\n",
    "Macro stats:\n",
    "(0.94799850484804005, 0.93801257128445081, 0.93641155563669853, None)\n"
   ]
  }
 ],
 "metadata": {
  "kernelspec": {
   "display_name": "Python 2",
   "language": "python",
   "name": "python2"
  },
  "language_info": {
   "codemirror_mode": {
    "name": "ipython",
    "version": 2
   },
   "file_extension": ".py",
   "mimetype": "text/x-python",
   "name": "python",
   "nbconvert_exporter": "python",
   "pygments_lexer": "ipython2",
   "version": "2.7.13"
  }
 },
 "nbformat": 4,
 "nbformat_minor": 2
}
